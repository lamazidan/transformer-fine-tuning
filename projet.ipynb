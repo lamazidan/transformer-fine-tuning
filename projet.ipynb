{
 "cells": [
  {
   "cell_type": "code",
   "execution_count": 34,
   "metadata": {
    "executionInfo": {
     "elapsed": 251,
     "status": "ok",
     "timestamp": 1708872010756,
     "user": {
      "displayName": "Lama Zidan",
      "userId": "13733136704510697408"
     },
     "user_tz": -60
    },
    "id": "PqyyXMf9MUby"
   },
   "outputs": [],
   "source": [
    "#libraries:\n",
    "import pandas as pd\n",
    "import matplotlib.pyplot as plt\n",
    "import numpy as np\n",
    "from nltk.tokenize import word_tokenize\n",
    "import re\n",
    "import torch\n",
    "import torch.nn as nn\n",
    "from transformers import CamembertTokenizer, CamembertForSequenceClassification, AdamW, get_linear_schedule_with_warmup\n",
    "from torch.utils.data import DataLoader, Dataset\n",
    "from sklearn.model_selection import train_test_split\n",
    "from tqdm.auto import tqdm\n",
    "from sklearn.metrics import accuracy_score, precision_recall_fscore_support, confusion_matrix\n",
    "import seaborn as sns\n",
    "from torch.optim.lr_scheduler import StepLR, ExponentialLR\n",
    "from transformers import get_linear_schedule_with_warmup\n",
    "from torch.optim import Adam, AdamW"
   ]
  },
  {
   "cell_type": "code",
   "execution_count": 36,
   "metadata": {
    "colab": {
     "base_uri": "https://localhost:8080/",
     "height": 353
    },
    "executionInfo": {
     "elapsed": 467,
     "status": "error",
     "timestamp": 1708872015991,
     "user": {
      "displayName": "Lama Zidan",
      "userId": "13733136704510697408"
     },
     "user_tz": -60
    },
    "id": "tYd6rnQjM_Ug",
    "outputId": "3c3e73f6-a23d-4129-d902-1451415cfb6a"
   },
   "outputs": [],
   "source": [
    "#label: Polarity of the tweet (0 = negative, 1 = positive)\n",
    "#text: Content of the tweet\n",
    "\n",
    "df = pd.read_csv('french_tweets.csv')"
   ]
  },
  {
   "cell_type": "code",
   "execution_count": 37,
   "metadata": {
    "colab": {
     "base_uri": "https://localhost:8080/"
    },
    "executionInfo": {
     "elapsed": 3,
     "status": "ok",
     "timestamp": 1708871529261,
     "user": {
      "displayName": "Lama Zidan",
      "userId": "13733136704510697408"
     },
     "user_tz": -60
    },
    "id": "LG3aOat5M_XH",
    "outputId": "1b72f584-1798-4212-f8cc-adb716f7d206"
   },
   "outputs": [
    {
     "name": "stdout",
     "output_type": "stream",
     "text": [
      "(1526724, 2)\n",
      "    label                                               text\n",
      "0       0  - Awww, c'est un bummer. Tu devrais avoir davi...\n",
      "1       0  Est contrarié qu'il ne puisse pas mettre à jou...\n",
      "2       0  J'ai plongé plusieurs fois pour la balle. A ré...\n",
      "3       0  Tout mon corps a des démangeaisons et comme si...\n",
      "4       0  Non, il ne se comporte pas du tout. je suis en...\n",
      "5       0                             Pas l'équipage complet\n",
      "6       0                                  besoin d'un câlin\n",
      "7       0  Bonjour pas de vue! Oui ... pleut un peu, just...\n",
      "8       0                          Non, ils ne l'avaient pas\n",
      "9       0                                          Je meurs?\n",
      "10      0  Vacances de printemps en ville ordinaire ... i...\n",
      "11      0                    Je viens de perdre mes oreilles\n",
      "12      0  Je ne pouvais pas supporter de le regarder. Et...\n",
      "13      0  Ça compte, idk pourquoi je l'ai fait non plus....\n",
      "14      0  J'aurais été le premier, mais je n'avais pas d...\n"
     ]
    }
   ],
   "source": [
    "print(df.shape)\n",
    "print(df.head(15))"
   ]
  },
  {
   "cell_type": "code",
   "execution_count": 38,
   "metadata": {
    "colab": {
     "base_uri": "https://localhost:8080/"
    },
    "executionInfo": {
     "elapsed": 780,
     "status": "ok",
     "timestamp": 1708871530665,
     "user": {
      "displayName": "Lama Zidan",
      "userId": "13733136704510697408"
     },
     "user_tz": -60
    },
    "id": "i7eE0pWMM_ae",
    "outputId": "58152500-baf4-4954-f4e6-21c131f7946d"
   },
   "outputs": [
    {
     "name": "stdout",
     "output_type": "stream",
     "text": [
      "Valeurs manquantes par colonne:\n",
      "label    0\n",
      "text     0\n",
      "dtype: int64\n"
     ]
    }
   ],
   "source": [
    "#voir si il y a des NA:\n",
    "def num_missing(x):\n",
    "    return sum(x.isnull())\n",
    "print(\"Valeurs manquantes par colonne:\")\n",
    "print(df.apply(num_missing, axis=0)) #axis=0 définit que la fonction sera bien appliquée sur chaque colonne"
   ]
  },
  {
   "cell_type": "code",
   "execution_count": 39,
   "metadata": {
    "colab": {
     "base_uri": "https://localhost:8080/"
    },
    "executionInfo": {
     "elapsed": 2,
     "status": "ok",
     "timestamp": 1708866853149,
     "user": {
      "displayName": "Lama Zidan",
      "userId": "13733136704510697408"
     },
     "user_tz": -60
    },
    "id": "44VFkMsAM_dG",
    "outputId": "cb3509e8-5483-41d2-f84b-95350c3e0c28"
   },
   "outputs": [
    {
     "data": {
      "text/plain": [
       "0    771604\n",
       "1    755120\n",
       "Name: label, dtype: int64"
      ]
     },
     "execution_count": 39,
     "metadata": {},
     "output_type": "execute_result"
    }
   ],
   "source": [
    "#nb textes dans chaque label:\n",
    "df['label'].value_counts()"
   ]
  },
  {
   "cell_type": "code",
   "execution_count": 40,
   "metadata": {
    "colab": {
     "base_uri": "https://localhost:8080/"
    },
    "executionInfo": {
     "elapsed": 300,
     "status": "ok",
     "timestamp": 1708866854639,
     "user": {
      "displayName": "Lama Zidan",
      "userId": "13733136704510697408"
     },
     "user_tz": -60
    },
    "id": "MTL35QuMM_f-",
    "outputId": "1d9cc12c-af9d-4346-b4ab-c5438e79764f"
   },
   "outputs": [
    {
     "name": "stdout",
     "output_type": "stream",
     "text": [
      "0    50.539849\n",
      "1    49.460151\n",
      "Name: label, dtype: float64\n"
     ]
    }
   ],
   "source": [
    "# Calculer les pourcentages pour chaque label\n",
    "label_counts = df['label'].value_counts()\n",
    "total_texts = df.shape[0]\n",
    "percentages = label_counts / total_texts * 100\n",
    "print(percentages)"
   ]
  },
  {
   "cell_type": "code",
   "execution_count": 41,
   "metadata": {
    "colab": {
     "base_uri": "https://localhost:8080/",
     "height": 565
    },
    "executionInfo": {
     "elapsed": 630,
     "status": "ok",
     "timestamp": 1708871533920,
     "user": {
      "displayName": "Lama Zidan",
      "userId": "13733136704510697408"
     },
     "user_tz": -60
    },
    "id": "tiAeN6UJM_iY",
    "outputId": "f8d0ed0f-5167-4dd2-e38b-c81b44f9d0c2"
   },
   "outputs": [
    {
     "data": {
      "image/png": "[encoded data removed]",
      "text/plain": [
       "<Figure size 800x600 with 1 Axes>"
      ]
     },
     "metadata": {},
     "output_type": "display_data"
    }
   ],
   "source": [
    "# Compter le nombre de textes pour chaque label\n",
    "label_counts = df['label'].value_counts()\n",
    "\n",
    "# Calculer les pourcentages pour chaque label\n",
    "total_texts = df.shape[0]\n",
    "percentages = label_counts / total_texts * 100\n",
    "\n",
    "# Créer un graphique\n",
    "plt.figure(figsize=(8, 6))\n",
    "bars = label_counts.plot(kind='bar', color=['orange', 'blue'])\n",
    "\n",
    "# Annoter chaque barre avec le nombre d'effectifs et le pourcentage\n",
    "for i, count in enumerate(label_counts):\n",
    "    plt.text(i, count, f'{count}\\n({percentages[i]:.1f}%)', ha='center', va='bottom')\n",
    "\n",
    "plt.title('Répartition des textes par label')\n",
    "plt.xlabel('Label')\n",
    "plt.ylabel('Nombre de textes')\n",
    "plt.xticks(rotation=0)\n",
    "plt.show()"
   ]
  },
  {
   "cell_type": "code",
   "execution_count": 42,
   "metadata": {
    "executionInfo": {
     "elapsed": 218,
     "status": "ok",
     "timestamp": 1708871539254,
     "user": {
      "displayName": "Lama Zidan",
      "userId": "13733136704510697408"
     },
     "user_tz": -60
    },
    "id": "GnNKkq-cM_sW"
   },
   "outputs": [],
   "source": [
    "#selectionner un nombre réduit de données pour des ressources limité (cpu)\n",
    "df_sm= df.sample(n=1000)"
   ]
  },
  {
   "cell_type": "code",
   "execution_count": 43,
   "metadata": {
    "colab": {
     "base_uri": "https://localhost:8080/",
     "height": 394
    },
    "executionInfo": {
     "elapsed": 364,
     "status": "ok",
     "timestamp": 1708871540274,
     "user": {
      "displayName": "Lama Zidan",
      "userId": "13733136704510697408"
     },
     "user_tz": -60
    },
    "id": "-AnpfcLCM_vO",
    "outputId": "9f02b8e7-2387-402e-c073-06622d22cb72"
   },
   "outputs": [
    {
     "data": {
      "text/html": [
       "<div>\n",
       "<style scoped>\n",
       "    .dataframe tbody tr th:only-of-type {\n",
       "        vertical-align: middle;\n",
       "    }\n",
       "\n",
       "    .dataframe tbody tr th {\n",
       "        vertical-align: top;\n",
       "    }\n",
       "\n",
       "    .dataframe thead th {\n",
       "        text-align: right;\n",
       "    }\n",
       "</style>\n",
       "<table border=\"1\" class=\"dataframe\">\n",
       "  <thead>\n",
       "    <tr style=\"text-align: right;\">\n",
       "      <th></th>\n",
       "      <th>label</th>\n",
       "      <th>text</th>\n",
       "    </tr>\n",
       "  </thead>\n",
       "  <tbody>\n",
       "    <tr>\n",
       "      <th>436657</th>\n",
       "      <td>0</td>\n",
       "      <td>J'ai joué à l'un des jeux et maintenant mes co...</td>\n",
       "    </tr>\n",
       "    <tr>\n",
       "      <th>357225</th>\n",
       "      <td>0</td>\n",
       "      <td>Je veux entendre</td>\n",
       "    </tr>\n",
       "    <tr>\n",
       "      <th>585113</th>\n",
       "      <td>0</td>\n",
       "      <td>S'il vous plaît, ne faites pas le retour de la...</td>\n",
       "    </tr>\n",
       "    <tr>\n",
       "      <th>38800</th>\n",
       "      <td>0</td>\n",
       "      <td>Finalement hors de ma conférence ... n'étaient...</td>\n",
       "    </tr>\n",
       "    <tr>\n",
       "      <th>170847</th>\n",
       "      <td>0</td>\n",
       "      <td>Prochain voyage ... italie, france et belgique...</td>\n",
       "    </tr>\n",
       "    <tr>\n",
       "      <th>...</th>\n",
       "      <td>...</td>\n",
       "      <td>...</td>\n",
       "    </tr>\n",
       "    <tr>\n",
       "      <th>262976</th>\n",
       "      <td>0</td>\n",
       "      <td>Et j'essaie de m'empêcher de manger du nurofen...</td>\n",
       "    </tr>\n",
       "    <tr>\n",
       "      <th>726995</th>\n",
       "      <td>0</td>\n",
       "      <td>Ils disent qu'ils \"fixés\" Moi ... je dis que ç...</td>\n",
       "    </tr>\n",
       "    <tr>\n",
       "      <th>646730</th>\n",
       "      <td>0</td>\n",
       "      <td>Bahahaha. C'est tout à fait quelque chose que ...</td>\n",
       "    </tr>\n",
       "    <tr>\n",
       "      <th>597172</th>\n",
       "      <td>0</td>\n",
       "      <td>Ouais, et je sors demain matin</td>\n",
       "    </tr>\n",
       "    <tr>\n",
       "      <th>153406</th>\n",
       "      <td>0</td>\n",
       "      <td>L'hébergement godaddy est un peu lent pour mon...</td>\n",
       "    </tr>\n",
       "  </tbody>\n",
       "</table>\n",
       "<p>509 rows × 2 columns</p>\n",
       "</div>"
      ],
      "text/plain": [
       "        label                                               text\n",
       "436657      0  J'ai joué à l'un des jeux et maintenant mes co...\n",
       "357225      0                                   Je veux entendre\n",
       "585113      0  S'il vous plaît, ne faites pas le retour de la...\n",
       "38800       0  Finalement hors de ma conférence ... n'étaient...\n",
       "170847      0  Prochain voyage ... italie, france et belgique...\n",
       "...       ...                                                ...\n",
       "262976      0  Et j'essaie de m'empêcher de manger du nurofen...\n",
       "726995      0  Ils disent qu'ils \"fixés\" Moi ... je dis que ç...\n",
       "646730      0  Bahahaha. C'est tout à fait quelque chose que ...\n",
       "597172      0                     Ouais, et je sors demain matin\n",
       "153406      0  L'hébergement godaddy est un peu lent pour mon...\n",
       "\n",
       "[509 rows x 2 columns]"
      ]
     },
     "execution_count": 43,
     "metadata": {},
     "output_type": "execute_result"
    }
   ],
   "source": [
    "df_sm[df_sm[\"label\"]==0]"
   ]
  },
  {
   "cell_type": "code",
   "execution_count": 44,
   "metadata": {
    "colab": {
     "base_uri": "https://localhost:8080/",
     "height": 331
    },
    "executionInfo": {
     "elapsed": 254,
     "status": "ok",
     "timestamp": 1708871542901,
     "user": {
      "displayName": "Lama Zidan",
      "userId": "13733136704510697408"
     },
     "user_tz": -60
    },
    "id": "WWORG9EcN28_",
    "outputId": "85504391-e3c8-4ad6-e2dc-baabe18aacef"
   },
   "outputs": [
    {
     "data": {
      "text/html": [
       "<div>\n",
       "<style scoped>\n",
       "    .dataframe tbody tr th:only-of-type {\n",
       "        vertical-align: middle;\n",
       "    }\n",
       "\n",
       "    .dataframe tbody tr th {\n",
       "        vertical-align: top;\n",
       "    }\n",
       "\n",
       "    .dataframe thead th {\n",
       "        text-align: right;\n",
       "    }\n",
       "</style>\n",
       "<table border=\"1\" class=\"dataframe\">\n",
       "  <thead>\n",
       "    <tr style=\"text-align: right;\">\n",
       "      <th></th>\n",
       "      <th>label</th>\n",
       "      <th>text</th>\n",
       "    </tr>\n",
       "  </thead>\n",
       "  <tbody>\n",
       "    <tr>\n",
       "      <th>1230036</th>\n",
       "      <td>1</td>\n",
       "      <td>Bhaha, au terminal de bus de viru, il y avait ...</td>\n",
       "    </tr>\n",
       "    <tr>\n",
       "      <th>843124</th>\n",
       "      <td>1</td>\n",
       "      <td>Oui, il est censé continuer à pleuvoir ce soir...</td>\n",
       "    </tr>\n",
       "    <tr>\n",
       "      <th>1195409</th>\n",
       "      <td>1</td>\n",
       "      <td>Je suis prêt pour un autre jour glorieux. Allo...</td>\n",
       "    </tr>\n",
       "    <tr>\n",
       "      <th>1188483</th>\n",
       "      <td>1</td>\n",
       "      <td>Merde, je dois trouver la cloche en main et bo...</td>\n",
       "    </tr>\n",
       "    <tr>\n",
       "      <th>919889</th>\n",
       "      <td>1</td>\n",
       "      <td>Descendre pour trouver du dîner pour la femme ...</td>\n",
       "    </tr>\n",
       "    <tr>\n",
       "      <th>...</th>\n",
       "      <td>...</td>\n",
       "      <td>...</td>\n",
       "    </tr>\n",
       "    <tr>\n",
       "      <th>1054711</th>\n",
       "      <td>1</td>\n",
       "      <td>Rire à nouveau les smileys; jj</td>\n",
       "    </tr>\n",
       "    <tr>\n",
       "      <th>1096998</th>\n",
       "      <td>1</td>\n",
       "      <td>Tout le souhait, j'aurais pu attraper ça. Mais...</td>\n",
       "    </tr>\n",
       "    <tr>\n",
       "      <th>1489497</th>\n",
       "      <td>1</td>\n",
       "      <td>génial! Laissez-nous savoir comment il s'avère</td>\n",
       "    </tr>\n",
       "    <tr>\n",
       "      <th>851022</th>\n",
       "      <td>1</td>\n",
       "      <td>Regarder les guerres de marié, jusqu'à présent...</td>\n",
       "    </tr>\n",
       "    <tr>\n",
       "      <th>857346</th>\n",
       "      <td>1</td>\n",
       "      <td>Ah, l'exubérance et la résilience des jambes ...</td>\n",
       "    </tr>\n",
       "  </tbody>\n",
       "</table>\n",
       "<p>491 rows × 2 columns</p>\n",
       "</div>"
      ],
      "text/plain": [
       "         label                                               text\n",
       "1230036      1  Bhaha, au terminal de bus de viru, il y avait ...\n",
       "843124       1  Oui, il est censé continuer à pleuvoir ce soir...\n",
       "1195409      1  Je suis prêt pour un autre jour glorieux. Allo...\n",
       "1188483      1  Merde, je dois trouver la cloche en main et bo...\n",
       "919889       1  Descendre pour trouver du dîner pour la femme ...\n",
       "...        ...                                                ...\n",
       "1054711      1                     Rire à nouveau les smileys; jj\n",
       "1096998      1  Tout le souhait, j'aurais pu attraper ça. Mais...\n",
       "1489497      1     génial! Laissez-nous savoir comment il s'avère\n",
       "851022       1  Regarder les guerres de marié, jusqu'à présent...\n",
       "857346       1   Ah, l'exubérance et la résilience des jambes ...\n",
       "\n",
       "[491 rows x 2 columns]"
      ]
     },
     "execution_count": 44,
     "metadata": {},
     "output_type": "execute_result"
    }
   ],
   "source": [
    "df_sm[df_sm[\"label\"]==1]"
   ]
  },
  {
   "cell_type": "code",
   "execution_count": 45,
   "metadata": {
    "colab": {
     "base_uri": "https://localhost:8080/",
     "height": 565
    },
    "executionInfo": {
     "elapsed": 587,
     "status": "ok",
     "timestamp": 1708871545081,
     "user": {
      "displayName": "Lama Zidan",
      "userId": "13733136704510697408"
     },
     "user_tz": -60
    },
    "id": "TffNCX3pN2_o",
    "outputId": "61ed8db1-b732-46bc-e52f-abb5aec648ec"
   },
   "outputs": [
    {
     "data": {
      "image/png": "[encoded data removed]",
      "text/plain": [
       "<Figure size 800x600 with 1 Axes>"
      ]
     },
     "metadata": {},
     "output_type": "display_data"
    }
   ],
   "source": [
    "# Compter le nombre de textes pour chaque label\n",
    "label_counts = df_sm['label'].value_counts()\n",
    "\n",
    "# Calculer les pourcentages pour chaque label\n",
    "total_texts = df_sm.shape[0]\n",
    "percentages = label_counts / total_texts * 100\n",
    "\n",
    "plt.figure(figsize=(8, 6))\n",
    "bars = label_counts.plot(kind='bar', color=['orange', 'blue'])\n",
    "\n",
    "for i, count in enumerate(label_counts):\n",
    "    plt.text(i, count, f'{count}\\n({percentages[i]:.1f}%)', ha='center', va='bottom')\n",
    "\n",
    "plt.title('Répartition des textes par label')\n",
    "plt.xlabel('Label')\n",
    "plt.ylabel('Nombre de textes')\n",
    "plt.xticks(rotation=0)\n",
    "plt.show()\n"
   ]
  },
  {
   "cell_type": "code",
   "execution_count": 46,
   "metadata": {
    "executionInfo": {
     "elapsed": 213,
     "status": "ok",
     "timestamp": 1708871547044,
     "user": {
      "displayName": "Lama Zidan",
      "userId": "13733136704510697408"
     },
     "user_tz": -60
    },
    "id": "deqoXutXN3Bu"
   },
   "outputs": [],
   "source": [
    "#nettoyage: supprimer les signes et les tags et les espaces vides et mettre les lettres en lowercase:\n",
    "def clean_text(text):\n",
    "    # lowercase\n",
    "    text = text.lower()\n",
    "    # remove tags\n",
    "    text=re.sub(\"&lt;/?.*?&gt;\",\" &lt;&gt; \",text)\n",
    "    text= re.sub(r'[@/#]', '', text)\n",
    "    # remove special characters and digits\n",
    "    text=re.sub(\"(\\\\d|\\\\W)+\",\" \",text)\n",
    "    text = re.sub(r'_+', '', text)\n",
    "    # Supprime les valeurs n'étant pas dans le bon alphabet\n",
    "    text = re.sub(r'[^a-zA-ZÀ-ÿ\\s]', '', text)\n",
    "    #url\n",
    "    text = re.sub(r'http\\S+', '', text)\n",
    "    # Supprime les valeurs vides\n",
    "    text = re.sub(r'\\s+', ' ', text).strip()\n",
    "    return text\n",
    "\n",
    "df_sm['text']=df_sm['text'].apply(clean_text)"
   ]
  },
  {
   "cell_type": "code",
   "execution_count": 47,
   "metadata": {
    "colab": {
     "base_uri": "https://localhost:8080/",
     "height": 676
    },
    "executionInfo": {
     "elapsed": 330,
     "status": "ok",
     "timestamp": 1708866996084,
     "user": {
      "displayName": "Lama Zidan",
      "userId": "13733136704510697408"
     },
     "user_tz": -60
    },
    "id": "jIlQ4eUXN7j_",
    "outputId": "c22037b9-6880-4594-d5ea-4959a1edb03c"
   },
   "outputs": [
    {
     "data": {
      "text/html": [
       "<div>\n",
       "<style scoped>\n",
       "    .dataframe tbody tr th:only-of-type {\n",
       "        vertical-align: middle;\n",
       "    }\n",
       "\n",
       "    .dataframe tbody tr th {\n",
       "        vertical-align: top;\n",
       "    }\n",
       "\n",
       "    .dataframe thead th {\n",
       "        text-align: right;\n",
       "    }\n",
       "</style>\n",
       "<table border=\"1\" class=\"dataframe\">\n",
       "  <thead>\n",
       "    <tr style=\"text-align: right;\">\n",
       "      <th></th>\n",
       "      <th>label</th>\n",
       "      <th>text</th>\n",
       "    </tr>\n",
       "  </thead>\n",
       "  <tbody>\n",
       "    <tr>\n",
       "      <th>1230036</th>\n",
       "      <td>1</td>\n",
       "      <td>bhaha au terminal de bus de viru il y avait un...</td>\n",
       "    </tr>\n",
       "    <tr>\n",
       "      <th>436657</th>\n",
       "      <td>0</td>\n",
       "      <td>j ai joué à l un des jeux et maintenant mes co...</td>\n",
       "    </tr>\n",
       "    <tr>\n",
       "      <th>843124</th>\n",
       "      <td>1</td>\n",
       "      <td>oui il est censé continuer à pleuvoir ce soir ...</td>\n",
       "    </tr>\n",
       "    <tr>\n",
       "      <th>357225</th>\n",
       "      <td>0</td>\n",
       "      <td>je veux entendre</td>\n",
       "    </tr>\n",
       "    <tr>\n",
       "      <th>585113</th>\n",
       "      <td>0</td>\n",
       "      <td>s il vous plaît ne faites pas le retour de la ...</td>\n",
       "    </tr>\n",
       "    <tr>\n",
       "      <th>...</th>\n",
       "      <td>...</td>\n",
       "      <td>...</td>\n",
       "    </tr>\n",
       "    <tr>\n",
       "      <th>851022</th>\n",
       "      <td>1</td>\n",
       "      <td>regarder les guerres de marié jusqu à présent ...</td>\n",
       "    </tr>\n",
       "    <tr>\n",
       "      <th>646730</th>\n",
       "      <td>0</td>\n",
       "      <td>bahahaha c est tout à fait quelque chose que j...</td>\n",
       "    </tr>\n",
       "    <tr>\n",
       "      <th>597172</th>\n",
       "      <td>0</td>\n",
       "      <td>ouais et je sors demain matin</td>\n",
       "    </tr>\n",
       "    <tr>\n",
       "      <th>153406</th>\n",
       "      <td>0</td>\n",
       "      <td>l hébergement godaddy est un peu lent pour mon...</td>\n",
       "    </tr>\n",
       "    <tr>\n",
       "      <th>857346</th>\n",
       "      <td>1</td>\n",
       "      <td>ah l exubérance et la résilience des jambes</td>\n",
       "    </tr>\n",
       "  </tbody>\n",
       "</table>\n",
       "<p>1000 rows × 2 columns</p>\n",
       "</div>"
      ],
      "text/plain": [
       "         label                                               text\n",
       "1230036      1  bhaha au terminal de bus de viru il y avait un...\n",
       "436657       0  j ai joué à l un des jeux et maintenant mes co...\n",
       "843124       1  oui il est censé continuer à pleuvoir ce soir ...\n",
       "357225       0                                   je veux entendre\n",
       "585113       0  s il vous plaît ne faites pas le retour de la ...\n",
       "...        ...                                                ...\n",
       "851022       1  regarder les guerres de marié jusqu à présent ...\n",
       "646730       0  bahahaha c est tout à fait quelque chose que j...\n",
       "597172       0                      ouais et je sors demain matin\n",
       "153406       0  l hébergement godaddy est un peu lent pour mon...\n",
       "857346       1        ah l exubérance et la résilience des jambes\n",
       "\n",
       "[1000 rows x 2 columns]"
      ]
     },
     "execution_count": 47,
     "metadata": {},
     "output_type": "execute_result"
    }
   ],
   "source": [
    "df_sm"
   ]
  },
  {
   "cell_type": "code",
   "execution_count": 48,
   "metadata": {
    "executionInfo": {
     "elapsed": 235,
     "status": "ok",
     "timestamp": 1708871549730,
     "user": {
      "displayName": "Lama Zidan",
      "userId": "13733136704510697408"
     },
     "user_tz": -60
    },
    "id": "PWT54VpmN7m3"
   },
   "outputs": [],
   "source": [
    "#suppression d'emoji:\n",
    "def remove_emoji(text):\n",
    "    emoji_pattern = re.compile(\"[\"\n",
    "                           u\"\\U0001F600-\\U0001F64F\"  # emoticons\n",
    "                           u\"\\U0001F300-\\U0001F5FF\"  # symbols & pictographs\n",
    "                           u\"\\U0001F680-\\U0001F6FF\"  # transport & map symbols\n",
    "                           u\"\\U0001F1E0-\\U0001F1FF\"  # flags (iOS)\n",
    "                           u\"\\U00002702-\\U000027B0\"\n",
    "                           u\"\\U000024C2-\\U0001F251\"\n",
    "                           \"]+\", flags=re.UNICODE)\n",
    "    return emoji_pattern.sub(r'', text)\n",
    "\n",
    "df_sm['text']=df_sm['text'].apply(remove_emoji)"
   ]
  },
  {
   "cell_type": "code",
   "execution_count": 49,
   "metadata": {
    "colab": {
     "base_uri": "https://localhost:8080/",
     "height": 676
    },
    "executionInfo": {
     "elapsed": 309,
     "status": "ok",
     "timestamp": 1708867000898,
     "user": {
      "displayName": "Lama Zidan",
      "userId": "13733136704510697408"
     },
     "user_tz": -60
    },
    "id": "ORn09fQYN7pW",
    "outputId": "3156e8cc-dfe1-4068-dc63-cd0dbb659006"
   },
   "outputs": [
    {
     "data": {
      "text/html": [
       "<div>\n",
       "<style scoped>\n",
       "    .dataframe tbody tr th:only-of-type {\n",
       "        vertical-align: middle;\n",
       "    }\n",
       "\n",
       "    .dataframe tbody tr th {\n",
       "        vertical-align: top;\n",
       "    }\n",
       "\n",
       "    .dataframe thead th {\n",
       "        text-align: right;\n",
       "    }\n",
       "</style>\n",
       "<table border=\"1\" class=\"dataframe\">\n",
       "  <thead>\n",
       "    <tr style=\"text-align: right;\">\n",
       "      <th></th>\n",
       "      <th>label</th>\n",
       "      <th>text</th>\n",
       "    </tr>\n",
       "  </thead>\n",
       "  <tbody>\n",
       "    <tr>\n",
       "      <th>1230036</th>\n",
       "      <td>1</td>\n",
       "      <td>bhaha au terminal de bus de viru il y avait un...</td>\n",
       "    </tr>\n",
       "    <tr>\n",
       "      <th>436657</th>\n",
       "      <td>0</td>\n",
       "      <td>j ai joué à l un des jeux et maintenant mes co...</td>\n",
       "    </tr>\n",
       "    <tr>\n",
       "      <th>843124</th>\n",
       "      <td>1</td>\n",
       "      <td>oui il est censé continuer à pleuvoir ce soir ...</td>\n",
       "    </tr>\n",
       "    <tr>\n",
       "      <th>357225</th>\n",
       "      <td>0</td>\n",
       "      <td>je veux entendre</td>\n",
       "    </tr>\n",
       "    <tr>\n",
       "      <th>585113</th>\n",
       "      <td>0</td>\n",
       "      <td>s il vous plaît ne faites pas le retour de la ...</td>\n",
       "    </tr>\n",
       "    <tr>\n",
       "      <th>...</th>\n",
       "      <td>...</td>\n",
       "      <td>...</td>\n",
       "    </tr>\n",
       "    <tr>\n",
       "      <th>851022</th>\n",
       "      <td>1</td>\n",
       "      <td>regarder les guerres de marié jusqu à présent ...</td>\n",
       "    </tr>\n",
       "    <tr>\n",
       "      <th>646730</th>\n",
       "      <td>0</td>\n",
       "      <td>bahahaha c est tout à fait quelque chose que j...</td>\n",
       "    </tr>\n",
       "    <tr>\n",
       "      <th>597172</th>\n",
       "      <td>0</td>\n",
       "      <td>ouais et je sors demain matin</td>\n",
       "    </tr>\n",
       "    <tr>\n",
       "      <th>153406</th>\n",
       "      <td>0</td>\n",
       "      <td>l hébergement godaddy est un peu lent pour mon...</td>\n",
       "    </tr>\n",
       "    <tr>\n",
       "      <th>857346</th>\n",
       "      <td>1</td>\n",
       "      <td>ah l exubérance et la résilience des jambes</td>\n",
       "    </tr>\n",
       "  </tbody>\n",
       "</table>\n",
       "<p>1000 rows × 2 columns</p>\n",
       "</div>"
      ],
      "text/plain": [
       "         label                                               text\n",
       "1230036      1  bhaha au terminal de bus de viru il y avait un...\n",
       "436657       0  j ai joué à l un des jeux et maintenant mes co...\n",
       "843124       1  oui il est censé continuer à pleuvoir ce soir ...\n",
       "357225       0                                   je veux entendre\n",
       "585113       0  s il vous plaît ne faites pas le retour de la ...\n",
       "...        ...                                                ...\n",
       "851022       1  regarder les guerres de marié jusqu à présent ...\n",
       "646730       0  bahahaha c est tout à fait quelque chose que j...\n",
       "597172       0                      ouais et je sors demain matin\n",
       "153406       0  l hébergement godaddy est un peu lent pour mon...\n",
       "857346       1        ah l exubérance et la résilience des jambes\n",
       "\n",
       "[1000 rows x 2 columns]"
      ]
     },
     "execution_count": 49,
     "metadata": {},
     "output_type": "execute_result"
    }
   ],
   "source": [
    "df_sm"
   ]
  },
  {
   "cell_type": "code",
   "execution_count": 50,
   "metadata": {
    "colab": {
     "base_uri": "https://localhost:8080/",
     "height": 772
    },
    "executionInfo": {
     "elapsed": 203,
     "status": "error",
     "timestamp": 1708787958902,
     "user": {
      "displayName": "Lama Zidan",
      "userId": "13733136704510697408"
     },
     "user_tz": -60
    },
    "id": "PcfnrGTFN7r4",
    "outputId": "d23d9588-2df4-497f-8e6d-d64ca63d3004"
   },
   "outputs": [
    {
     "name": "stdout",
     "output_type": "stream",
     "text": [
      "je veux entendre\n",
      "regarder pablo francisco\n",
      "désolé câlins\n",
      "ai je raison\n",
      "j attendrais demain\n",
      "happy friday tweeples\n",
      "assez convenable\n",
      "la nouvelle lisbonne\n",
      "je sais boooo\n",
      "merci mon amour\n",
      "o bonjour mec\n",
      "mal de tête\n",
      "au workkkkk\n",
      "travaux texte\n",
      "suis moi thx\n",
      "regarde mes jambes\n",
      "avoir une bonne\n",
      "bon weekend\n",
      "juste moi\n",
      "non vous\n",
      "pas cool\n",
      "ces roches fous\n",
      "je suis toujours\n",
      "damnit plats\n",
      "tenté de rouler\n",
      "où cindy\n",
      "thanx null\n",
      "merci bob\n",
      "oooh comme ça\n",
      "regarder conan obrien\n",
      "au chapeau\n",
      "va voir kate\n",
      "woooo je ferai\n",
      "oui tu fais\n",
      "je suis désolé\n",
      "pleut maintenant\n",
      "bonne chance\n",
      "mal de têtenull\n",
      "impossible d attendre\n",
      "straight a s\n",
      "aller au lit\n",
      "salut de nous\n",
      "salut vagues\n",
      "referat terminé\n",
      "bonjour null\n",
      "très très triste\n",
      "ahah partyin tonight\n",
      "ça fait mal\n",
      "rien juste ranting\n",
      "aller au travail\n",
      "où est passé\n",
      "fond oooohh spooky\n",
      "histoire test demain\n",
      "enfin parti\n"
     ]
    }
   ],
   "source": [
    "#voir les phrases de <= 3 tokens à supprimer ou non?\n",
    "\n",
    "# Tokenization des textes et compter le nombre de tokens\n",
    "df_sm['nb_tokens'] = df_sm['text'].apply(lambda x: len(word_tokenize(x)))\n",
    "\n",
    "# Sélectionner les textes qui ont 3 tokens ou moins\n",
    "textes_3_tokens_ou_moins = df_sm[df_sm['nb_tokens'] <=3]['text']\n",
    "\n",
    "# Afficher les textes sélectionnés\n",
    "for texte in textes_3_tokens_ou_moins:\n",
    "    print(texte)\n",
    "#on decide de supprimer les phrases de 2 tokens"
   ]
  },
  {
   "cell_type": "code",
   "execution_count": 51,
   "metadata": {
    "executionInfo": {
     "elapsed": 249,
     "status": "ok",
     "timestamp": 1708871554225,
     "user": {
      "displayName": "Lama Zidan",
      "userId": "13733136704510697408"
     },
     "user_tz": -60
    },
    "id": "4WtcDj7qN7ui"
   },
   "outputs": [],
   "source": [
    "#on a decidé de supprimer les tweets de <3 car peu significatives\n",
    "#tri des phrases < 3tokens:\n",
    "df_sm['text'] = df_sm['text'].apply(lambda x: np.NaN if len(x.split()) < 3 else x)\n",
    "df_sm.dropna(axis=0, inplace=True)"
   ]
  },
  {
   "cell_type": "code",
   "execution_count": 52,
   "metadata": {
    "colab": {
     "base_uri": "https://localhost:8080/",
     "height": 645
    },
    "executionInfo": {
     "elapsed": 3,
     "status": "ok",
     "timestamp": 1708871555044,
     "user": {
      "displayName": "Lama Zidan",
      "userId": "13733136704510697408"
     },
     "user_tz": -60
    },
    "id": "rMrbkYc8N7w4",
    "outputId": "8c9b02dd-35db-4226-decf-9e817bb03d44"
   },
   "outputs": [
    {
     "data": {
      "text/html": [
       "<div>\n",
       "<style scoped>\n",
       "    .dataframe tbody tr th:only-of-type {\n",
       "        vertical-align: middle;\n",
       "    }\n",
       "\n",
       "    .dataframe tbody tr th {\n",
       "        vertical-align: top;\n",
       "    }\n",
       "\n",
       "    .dataframe thead th {\n",
       "        text-align: right;\n",
       "    }\n",
       "</style>\n",
       "<table border=\"1\" class=\"dataframe\">\n",
       "  <thead>\n",
       "    <tr style=\"text-align: right;\">\n",
       "      <th></th>\n",
       "      <th>label</th>\n",
       "      <th>text</th>\n",
       "      <th>nb_tokens</th>\n",
       "    </tr>\n",
       "  </thead>\n",
       "  <tbody>\n",
       "    <tr>\n",
       "      <th>1230036</th>\n",
       "      <td>1</td>\n",
       "      <td>bhaha au terminal de bus de viru il y avait un...</td>\n",
       "      <td>26</td>\n",
       "    </tr>\n",
       "    <tr>\n",
       "      <th>436657</th>\n",
       "      <td>0</td>\n",
       "      <td>j ai joué à l un des jeux et maintenant mes co...</td>\n",
       "      <td>14</td>\n",
       "    </tr>\n",
       "    <tr>\n",
       "      <th>843124</th>\n",
       "      <td>1</td>\n",
       "      <td>oui il est censé continuer à pleuvoir ce soir ...</td>\n",
       "      <td>28</td>\n",
       "    </tr>\n",
       "    <tr>\n",
       "      <th>357225</th>\n",
       "      <td>0</td>\n",
       "      <td>je veux entendre</td>\n",
       "      <td>3</td>\n",
       "    </tr>\n",
       "    <tr>\n",
       "      <th>585113</th>\n",
       "      <td>0</td>\n",
       "      <td>s il vous plaît ne faites pas le retour de la ...</td>\n",
       "      <td>20</td>\n",
       "    </tr>\n",
       "    <tr>\n",
       "      <th>...</th>\n",
       "      <td>...</td>\n",
       "      <td>...</td>\n",
       "      <td>...</td>\n",
       "    </tr>\n",
       "    <tr>\n",
       "      <th>851022</th>\n",
       "      <td>1</td>\n",
       "      <td>regarder les guerres de marié jusqu à présent ...</td>\n",
       "      <td>10</td>\n",
       "    </tr>\n",
       "    <tr>\n",
       "      <th>646730</th>\n",
       "      <td>0</td>\n",
       "      <td>bahahaha c est tout à fait quelque chose que j...</td>\n",
       "      <td>18</td>\n",
       "    </tr>\n",
       "    <tr>\n",
       "      <th>597172</th>\n",
       "      <td>0</td>\n",
       "      <td>ouais et je sors demain matin</td>\n",
       "      <td>6</td>\n",
       "    </tr>\n",
       "    <tr>\n",
       "      <th>153406</th>\n",
       "      <td>0</td>\n",
       "      <td>l hébergement godaddy est un peu lent pour mon...</td>\n",
       "      <td>10</td>\n",
       "    </tr>\n",
       "    <tr>\n",
       "      <th>857346</th>\n",
       "      <td>1</td>\n",
       "      <td>ah l exubérance et la résilience des jambes</td>\n",
       "      <td>8</td>\n",
       "    </tr>\n",
       "  </tbody>\n",
       "</table>\n",
       "<p>981 rows × 3 columns</p>\n",
       "</div>"
      ],
      "text/plain": [
       "         label                                               text  nb_tokens\n",
       "1230036      1  bhaha au terminal de bus de viru il y avait un...         26\n",
       "436657       0  j ai joué à l un des jeux et maintenant mes co...         14\n",
       "843124       1  oui il est censé continuer à pleuvoir ce soir ...         28\n",
       "357225       0                                   je veux entendre          3\n",
       "585113       0  s il vous plaît ne faites pas le retour de la ...         20\n",
       "...        ...                                                ...        ...\n",
       "851022       1  regarder les guerres de marié jusqu à présent ...         10\n",
       "646730       0  bahahaha c est tout à fait quelque chose que j...         18\n",
       "597172       0                      ouais et je sors demain matin          6\n",
       "153406       0  l hébergement godaddy est un peu lent pour mon...         10\n",
       "857346       1        ah l exubérance et la résilience des jambes          8\n",
       "\n",
       "[981 rows x 3 columns]"
      ]
     },
     "execution_count": 52,
     "metadata": {},
     "output_type": "execute_result"
    }
   ],
   "source": [
    "df_sm"
   ]
  },
  {
   "cell_type": "code",
   "execution_count": 53,
   "metadata": {
    "id": "UIdzKDl9N72G"
   },
   "outputs": [
    {
     "name": "stdout",
     "output_type": "stream",
     "text": [
      "Nombre maximum de tokens dans un tweet: 45\n",
      "Nombre minimum de tokens dans un tweet: 5\n",
      "Longueur moyenne des tokens dans les tweets: 18.43\n"
     ]
    }
   ],
   "source": [
    "#nb moy des tokens dans chaque tweet:\n",
    "\n",
    "# Supposons que `tweets` est une liste contenant tous vos tweets\n",
    "tweets = df_sm['text']\n",
    "\n",
    "# Initialisation du tokenizer\n",
    "tokenizer = CamembertTokenizer.from_pretrained('camembert-base')\n",
    "\n",
    "# Tokenisation des tweets et calcul de la longueur (nombre de tokens) pour chaque tweet\n",
    "token_lengths = [len(tokenizer.encode(tweet, add_special_tokens=True)) for tweet in tweets]\n",
    "\n",
    "# Calcul des statistiques\n",
    "max_length_tok = max(token_lengths)\n",
    "min_length = min(token_lengths)\n",
    "average_length = np.mean(token_lengths)\n",
    "\n",
    "print(f\"Nombre maximum de tokens dans un tweet: {max_length_tok}\")\n",
    "print(f\"Nombre minimum de tokens dans un tweet: {min_length}\")\n",
    "print(f\"Longueur moyenne des tokens dans les tweets: {average_length:.2f}\")\n"
   ]
  },
  {
   "cell_type": "code",
   "execution_count": 54,
   "metadata": {
    "colab": {
     "base_uri": "https://localhost:8080/",
     "height": 335
    },
    "executionInfo": {
     "elapsed": 205,
     "status": "error",
     "timestamp": 1708871557198,
     "user": {
      "displayName": "Lama Zidan",
      "userId": "13733136704510697408"
     },
     "user_tz": -60
    },
    "id": "YRVMATvJN3EG",
    "outputId": "c3b56dba-9078-4226-c0d5-7161bb51388d"
   },
   "outputs": [],
   "source": [
    "#garder texte_sans_balise et nommer text:\n",
    "colonne_a_supprimer=['nb_tokens']\n",
    "df_sm=df_sm.drop(colonne_a_supprimer,axis=1)"
   ]
  },
  {
   "cell_type": "code",
   "execution_count": 55,
   "metadata": {
    "colab": {
     "base_uri": "https://localhost:8080/",
     "height": 565
    },
    "executionInfo": {
     "elapsed": 505,
     "status": "ok",
     "timestamp": 1708867014723,
     "user": {
      "displayName": "Lama Zidan",
      "userId": "13733136704510697408"
     },
     "user_tz": -60
    },
    "id": "ZTOMSYzZN3I_",
    "outputId": "eb8179f0-3b4b-4c38-b1d1-93650ed703ef"
   },
   "outputs": [
    {
     "data": {
      "image/png": "[encoded data removed]",
      "text/plain": [
       "<Figure size 800x600 with 1 Axes>"
      ]
     },
     "metadata": {},
     "output_type": "display_data"
    }
   ],
   "source": [
    "# Compter le nombre de textes pour chaque label\n",
    "label_counts = df_sm['label'].value_counts()\n",
    "\n",
    "# Calculer les pourcentages pour chaque label\n",
    "total_texts = df_sm.shape[0]\n",
    "percentages = label_counts / total_texts * 100\n",
    "\n",
    "# Créer un graphique\n",
    "plt.figure(figsize=(8, 6))\n",
    "bars = label_counts.plot(kind='bar', color=['orange', 'blue'])\n",
    "\n",
    "# Annoter chaque barre avec le nombre d'effectifs et le pourcentage\n",
    "for i, count in enumerate(label_counts):\n",
    "    plt.text(i, count, f'{count}\\n({percentages[i]:.1f}%)', ha='center', va='bottom')\n",
    "\n",
    "plt.title('Répartition des textes par label')\n",
    "plt.xlabel('Label')\n",
    "plt.ylabel('Nombre de textes')\n",
    "plt.xticks(rotation=0)\n",
    "plt.show()\n"
   ]
  },
  {
   "cell_type": "markdown",
   "metadata": {},
   "source": [
    "# préparer les données pour l'entrainement:"
   ]
  },
  {
   "cell_type": "code",
   "execution_count": 56,
   "metadata": {
    "colab": {
     "base_uri": "https://localhost:8080/"
    },
    "executionInfo": {
     "elapsed": 823,
     "status": "ok",
     "timestamp": 1708871560392,
     "user": {
      "displayName": "Lama Zidan",
      "userId": "13733136704510697408"
     },
     "user_tz": -60
    },
    "id": "UGD69rkUOI1n",
    "outputId": "aa10195c-bdf0-4202-d6d9-3a1508790bda"
   },
   "outputs": [],
   "source": [
    "tokenizer = CamembertTokenizer.from_pretrained('camembert-base',do_lower_case=True)\n",
    "device = torch.device('cuda' if torch.cuda.is_available() else 'cpu')"
   ]
  },
  {
   "cell_type": "code",
   "execution_count": 57,
   "metadata": {},
   "outputs": [],
   "source": [
    "#Diviser le dataset en ensembles d'entraînement, de validation, et de test.\n",
    "train_df, temp_df = train_test_split(df_sm, test_size=0.2, random_state=42)\n",
    "val_df, test_df = train_test_split(temp_df, test_size=0.5, random_state=42)"
   ]
  },
  {
   "cell_type": "code",
   "execution_count": 58,
   "metadata": {
    "executionInfo": {
     "elapsed": 246,
     "status": "ok",
     "timestamp": 1708871561560,
     "user": {
      "displayName": "Lama Zidan",
      "userId": "13733136704510697408"
     },
     "user_tz": -60
    },
    "id": "EUS4Vwc4OI4I"
   },
   "outputs": [],
   "source": [
    "#Définir une classe Dataset personnalisée pour préparer les données pour PyTorch.\n",
    "class SentimentDataset(Dataset):\n",
    "    def __init__(self, texts, labels, tokenizer, max_len):\n",
    "        self.texts = texts\n",
    "        self.labels = labels\n",
    "        self.tokenizer = tokenizer\n",
    "        self.max_len = max_len\n",
    "\n",
    "    def __len__(self):\n",
    "        return len(self.texts)\n",
    "\n",
    "    def __getitem__(self, item):\n",
    "        text = str(self.texts[item])\n",
    "        label = self.labels[item]\n",
    "\n",
    "        encoding = self.tokenizer.encode_plus(\n",
    "            text,\n",
    "            add_special_tokens=True,\n",
    "            max_length=self.max_len,\n",
    "            return_token_type_ids=False,\n",
    "            padding='max_length',\n",
    "            truncation=True,\n",
    "            return_attention_mask=True,\n",
    "            return_tensors='pt',\n",
    "        )\n",
    "\n",
    "        return {\n",
    "            'text': text,\n",
    "            'input_ids': encoding['input_ids'].flatten(),\n",
    "            'attention_mask': encoding['attention_mask'].flatten(),\n",
    "            'labels': torch.tensor(label, dtype=torch.long)\n",
    "        }\n"
   ]
  },
  {
   "cell_type": "code",
   "execution_count": null,
   "metadata": {},
   "outputs": [],
   "source": [
    "# Paramètres\n",
    "BATCH_SIZE = 16\n",
    "#Longueur des textes\n",
    "MAX_LEN = 256\n",
    "\n",
    "# Création des instances de SentimentDataset\n",
    "train_dataset = SentimentDataset(train_df['text'].to_numpy(), train_df['label'].to_numpy(), tokenizer, MAX_LEN)\n",
    "val_dataset = SentimentDataset(val_df['text'].to_numpy(), val_df['label'].to_numpy(), tokenizer, MAX_LEN)\n",
    "test_dataset = SentimentDataset(test_df['text'].to_numpy(), test_df['label'].to_numpy(), tokenizer, MAX_LEN)\n",
    "\n",
    "#Créer des DataLoaders pour chaque ensemble de données, qui seront utilisés pour charger les données pendant l'entraînement.\n",
    "train_loader = DataLoader(train_dataset, batch_size=BATCH_SIZE, shuffle=True)\n",
    "validation_loader = DataLoader(val_dataset, batch_size=BATCH_SIZE)\n",
    "test_loader = DataLoader(test_dataset, batch_size=BATCH_SIZE)"
   ]
  },
  {
   "cell_type": "markdown",
   "metadata": {},
   "source": [
    "# préparer l'entrainement"
   ]
  },
  {
   "cell_type": "code",
   "execution_count": 186,
   "metadata": {},
   "outputs": [],
   "source": [
    "# Définition des hyperparamètres:\n",
    "learning_rates = [5e-5, 2e-5]\n",
    "optimizers= ['AdamW', 'Adam']  \n",
    "schedulers = ['get_linear_schedule_with_warmup','ExponentialLR']\n",
    "\n",
    "scheduler_params = {\n",
    "    'get_linear_schedule_with_warmup': [{}],  \n",
    "    'ExponentialLR': [{'gamma': 0.99}]\n",
    "}\n",
    "\n",
    "adam_params = {\n",
    "    'betas': [(0.9, 0.999)],\n",
    "    'eps': [1e-8]\n",
    "}\n",
    "\n",
    "adamw_params = {\n",
    "    'betas': [(0.9, 0.999)],\n",
    "    'eps': [1e-8],\n",
    "    'weight_decay': [0.01] }\n",
    "\n",
    "\n",
    "epochs = 3\n",
    "total_steps = len(train_loader) * epochs\n",
    "num_warmup_steps = int(total_steps * 0.2)\n",
    "\n",
    "best_config = {}\n",
    "best_global_accuracy = 0.0\n",
    "best_model_weights = None\n"
   ]
  },
  {
   "cell_type": "code",
   "execution_count": 68,
   "metadata": {},
   "outputs": [],
   "source": [
    "def train_and_evaluate(model, train_loader, validation_loader, optimizer, scheduler, epochs=epochs):\n",
    "    device = torch.device('cuda' if torch.cuda.is_available() else 'cpu')\n",
    "    model.to(device)\n",
    "\n",
    "    train_losses = []\n",
    "    validation_losses = []\n",
    "\n",
    "    best_accuracy = 0.0\n",
    "    best_model_state = None\n",
    "    best_epoch = -1\n",
    "   \n",
    "\n",
    "    for epoch in range(epochs):\n",
    "        model.train()\n",
    "        total_train_loss = 0\n",
    "        for batch in tqdm(train_loader, desc=f\"Epoch {epoch+1}/{epochs} Training\"):\n",
    "            optimizer.zero_grad()\n",
    "            input_ids = batch['input_ids'].to(device)\n",
    "            attention_mask = batch['attention_mask'].to(device)\n",
    "            labels = batch['labels'].to(device)\n",
    "            outputs = model(input_ids, attention_mask=attention_mask, labels=labels)\n",
    "            loss = outputs.loss\n",
    "            loss.backward()\n",
    "            optimizer.step()\n",
    "            scheduler.step()\n",
    "            total_train_loss += loss.item()\n",
    "\n",
    "        avg_train_loss = total_train_loss / len(train_loader)\n",
    "        train_losses.append(avg_train_loss)\n",
    "\n",
    "        total_val_loss, validation_accuracy = evaluate(model, validation_loader, device)\n",
    "        avg_val_loss = total_val_loss / len(validation_loader)\n",
    "        validation_losses.append(avg_val_loss)\n",
    "\n",
    "        # Mettre à jour uniquement si la précision de validation actuelle est meilleure que la meilleure précision observée jusqu'à présent\n",
    "        if validation_accuracy > best_accuracy:\n",
    "            best_accuracy = validation_accuracy\n",
    "            best_model_state = model.state_dict().copy()\n",
    "            best_epoch = epoch\n",
    "        \n",
    "\n",
    "\n",
    "        print(f\"Epoch {epoch+1}/{epochs}, Training Loss: {avg_train_loss:.4f}, Validation Loss: {avg_val_loss:.4f}, Validation Accuracy: {validation_accuracy:.4f}\")\n",
    "        print(f\"Configuration testée: LR={lr},optimizer={optimizer_name} ,Beta={beta}, Epsilon={epsilon}, Weight Decay={weight_decay}, Scheduler={scheduler_name}\")\n",
    "        print(\"-\" * 80)\n",
    "\n",
    "    return best_accuracy, best_model_state, best_epoch , train_losses, validation_losses\n"
   ]
  },
  {
   "cell_type": "code",
   "execution_count": 62,
   "metadata": {},
   "outputs": [],
   "source": [
    "def evaluate(model, validation_loader, device):\n",
    "    model.eval()\n",
    "    total_val_loss = 0\n",
    "    predictions, true_labels = [], []\n",
    "    with torch.no_grad():\n",
    "        for batch in validation_loader:\n",
    "            input_ids = batch['input_ids'].to(device)\n",
    "            attention_mask = batch['attention_mask'].to(device)\n",
    "            labels = batch['labels'].to(device)\n",
    "            outputs = model(input_ids, attention_mask=attention_mask, labels=labels)\n",
    "            loss = outputs.loss\n",
    "            total_val_loss += loss.item()\n",
    "            logits = outputs.logits\n",
    "            predictions.extend(torch.argmax(logits, dim=-1).tolist())\n",
    "            true_labels.extend(labels.tolist())\n",
    "    accuracy = accuracy_score(true_labels, predictions)\n",
    "    return total_val_loss, accuracy\n"
   ]
  },
  {
   "cell_type": "code",
   "execution_count": 189,
   "metadata": {
    "executionInfo": {
     "elapsed": 358,
     "status": "ok",
     "timestamp": 1708871781338,
     "user": {
      "displayName": "Lama Zidan",
      "userId": "13733136704510697408"
     },
     "user_tz": -60
    },
    "id": "hX7TH9tfscEv"
   },
   "outputs": [],
   "source": [
    "def get_optimizer_scheduler(model, optimizer_name, lr, beta, epsilon, weight_decay, scheduler_name, num_warmup_steps, num_training_steps):\n",
    "    if optimizer_name == 'Adam':\n",
    "        optimizer = Adam(model.parameters(), lr=lr, betas=beta, eps=epsilon)\n",
    "    elif optimizer_name == 'AdamW':\n",
    "        optimizer = AdamW(model.parameters(), lr=lr, betas=beta, eps=epsilon, weight_decay=weight_decay)\n",
    "\n",
    "    if scheduler_name == 'ExponentialLR':\n",
    "        scheduler = ExponentialLR(optimizer, gamma=0.95)  \n",
    "    elif scheduler_name == 'get_linear_schedule_with_warmup':\n",
    "        scheduler = get_linear_schedule_with_warmup(optimizer, num_warmup_steps=num_warmup_steps, num_training_steps=num_training_steps)\n",
    "\n",
    "\n",
    "    return optimizer, scheduler"
   ]
  },
  {
   "cell_type": "markdown",
   "metadata": {},
   "source": [
    "# Entrainement"
   ]
  },
  {
   "cell_type": "code",
   "execution_count": 190,
   "metadata": {},
   "outputs": [
    {
     "name": "stderr",
     "output_type": "stream",
     "text": [
      "Some weights of the model checkpoint at camembert-base were not used when initializing CamembertForSequenceClassification: ['roberta.pooler.dense.weight', 'lm_head.layer_norm.bias', 'lm_head.dense.bias', 'lm_head.layer_norm.weight', 'lm_head.bias', 'lm_head.dense.weight', 'roberta.pooler.dense.bias']\n",
      "- This IS expected if you are initializing CamembertForSequenceClassification from the checkpoint of a model trained on another task or with another architecture (e.g. initializing a BertForSequenceClassification model from a BertForPreTraining model).\n",
      "- This IS NOT expected if you are initializing CamembertForSequenceClassification from the checkpoint of a model that you expect to be exactly identical (initializing a BertForSequenceClassification model from a BertForSequenceClassification model).\n",
      "Some weights of CamembertForSequenceClassification were not initialized from the model checkpoint at camembert-base and are newly initialized: ['classifier.dense.weight', 'classifier.out_proj.weight', 'classifier.dense.bias', 'classifier.out_proj.bias']\n",
      "You should probably TRAIN this model on a down-stream task to be able to use it for predictions and inference.\n"
     ]
    },
    {
     "data": {
      "application/vnd.jupyter.widget-view+json": {
       "model_id": "df6f24075cea4953aa06750c74478468",
       "version_major": 2,
       "version_minor": 0
      },
      "text/plain": [
       "Epoch 1/3 Training:   0%|          | 0/40 [00:00<?, ?it/s]"
      ]
     },
     "metadata": {},
     "output_type": "display_data"
    },
    {
     "name": "stdout",
     "output_type": "stream",
     "text": [
      "Epoch 1/3, Training Loss: 0.6839, Validation Loss: 0.6349, Validation Accuracy: 0.7595\n",
      "Configuration testée: LR=5e-05, Optimizer=AdamW, Beta=(0.9, 0.999), Epsilon=1e-08, Weight Decay=0.01, Scheduler=get_linear_schedule_with_warmup\n",
      "--------------------------------------------------------------------------------\n"
     ]
    },
    {
     "data": {
      "application/vnd.jupyter.widget-view+json": {
       "model_id": "ab899d0e4f0f4b7cbd165bcf787ae823",
       "version_major": 2,
       "version_minor": 0
      },
      "text/plain": [
       "Epoch 2/3 Training:   0%|          | 0/40 [00:00<?, ?it/s]"
      ]
     },
     "metadata": {},
     "output_type": "display_data"
    },
    {
     "name": "stdout",
     "output_type": "stream",
     "text": [
      "Epoch 2/3, Training Loss: 0.5457, Validation Loss: 0.4765, Validation Accuracy: 0.7975\n",
      "Configuration testée: LR=5e-05, Optimizer=AdamW, Beta=(0.9, 0.999), Epsilon=1e-08, Weight Decay=0.01, Scheduler=get_linear_schedule_with_warmup\n",
      "--------------------------------------------------------------------------------\n"
     ]
    },
    {
     "data": {
      "application/vnd.jupyter.widget-view+json": {
       "model_id": "1d8078b10ad94b6eadf3f37197a63918",
       "version_major": 2,
       "version_minor": 0
      },
      "text/plain": [
       "Epoch 3/3 Training:   0%|          | 0/40 [00:00<?, ?it/s]"
      ]
     },
     "metadata": {},
     "output_type": "display_data"
    },
    {
     "name": "stdout",
     "output_type": "stream",
     "text": [
      "Epoch 3/3, Training Loss: 0.3901, Validation Loss: 0.4665, Validation Accuracy: 0.8228\n",
      "Configuration testée: LR=5e-05, Optimizer=AdamW, Beta=(0.9, 0.999), Epsilon=1e-08, Weight Decay=0.01, Scheduler=get_linear_schedule_with_warmup\n",
      "--------------------------------------------------------------------------------\n"
     ]
    },
    {
     "name": "stderr",
     "output_type": "stream",
     "text": [
      "Some weights of the model checkpoint at camembert-base were not used when initializing CamembertForSequenceClassification: ['roberta.pooler.dense.weight', 'lm_head.layer_norm.bias', 'lm_head.dense.bias', 'lm_head.layer_norm.weight', 'lm_head.bias', 'lm_head.dense.weight', 'roberta.pooler.dense.bias']\n",
      "- This IS expected if you are initializing CamembertForSequenceClassification from the checkpoint of a model trained on another task or with another architecture (e.g. initializing a BertForSequenceClassification model from a BertForPreTraining model).\n",
      "- This IS NOT expected if you are initializing CamembertForSequenceClassification from the checkpoint of a model that you expect to be exactly identical (initializing a BertForSequenceClassification model from a BertForSequenceClassification model).\n",
      "Some weights of CamembertForSequenceClassification were not initialized from the model checkpoint at camembert-base and are newly initialized: ['classifier.dense.weight', 'classifier.out_proj.weight', 'classifier.dense.bias', 'classifier.out_proj.bias']\n",
      "You should probably TRAIN this model on a down-stream task to be able to use it for predictions and inference.\n"
     ]
    },
    {
     "data": {
      "application/vnd.jupyter.widget-view+json": {
       "model_id": "b64daa4996bb486695bd226ca4b5c60c",
       "version_major": 2,
       "version_minor": 0
      },
      "text/plain": [
       "Epoch 1/3 Training:   0%|          | 0/40 [00:00<?, ?it/s]"
      ]
     },
     "metadata": {},
     "output_type": "display_data"
    },
    {
     "name": "stdout",
     "output_type": "stream",
     "text": [
      "Epoch 1/3, Training Loss: 0.6872, Validation Loss: 0.6810, Validation Accuracy: 0.5696\n",
      "Configuration testée: LR=5e-05, Optimizer=AdamW, Beta=(0.9, 0.999), Epsilon=1e-08, Weight Decay=0.01, Scheduler=ExponentialLR\n",
      "--------------------------------------------------------------------------------\n"
     ]
    },
    {
     "data": {
      "application/vnd.jupyter.widget-view+json": {
       "model_id": "febfe70d41714581968255e297157973",
       "version_major": 2,
       "version_minor": 0
      },
      "text/plain": [
       "Epoch 2/3 Training:   0%|          | 0/40 [00:00<?, ?it/s]"
      ]
     },
     "metadata": {},
     "output_type": "display_data"
    },
    {
     "name": "stdout",
     "output_type": "stream",
     "text": [
      "Epoch 2/3, Training Loss: 0.6681, Validation Loss: 0.6669, Validation Accuracy: 0.7215\n",
      "Configuration testée: LR=5e-05, Optimizer=AdamW, Beta=(0.9, 0.999), Epsilon=1e-08, Weight Decay=0.01, Scheduler=ExponentialLR\n",
      "--------------------------------------------------------------------------------\n"
     ]
    },
    {
     "data": {
      "application/vnd.jupyter.widget-view+json": {
       "model_id": "a3386f2eabac443cbf69c8b6b26f5a2f",
       "version_major": 2,
       "version_minor": 0
      },
      "text/plain": [
       "Epoch 3/3 Training:   0%|          | 0/40 [00:00<?, ?it/s]"
      ]
     },
     "metadata": {},
     "output_type": "display_data"
    },
    {
     "name": "stdout",
     "output_type": "stream",
     "text": [
      "Epoch 3/3, Training Loss: 0.6619, Validation Loss: 0.6649, Validation Accuracy: 0.7215\n",
      "Configuration testée: LR=5e-05, Optimizer=AdamW, Beta=(0.9, 0.999), Epsilon=1e-08, Weight Decay=0.01, Scheduler=ExponentialLR\n",
      "--------------------------------------------------------------------------------\n"
     ]
    },
    {
     "name": "stderr",
     "output_type": "stream",
     "text": [
      "Some weights of the model checkpoint at camembert-base were not used when initializing CamembertForSequenceClassification: ['roberta.pooler.dense.weight', 'lm_head.layer_norm.bias', 'lm_head.dense.bias', 'lm_head.layer_norm.weight', 'lm_head.bias', 'lm_head.dense.weight', 'roberta.pooler.dense.bias']\n",
      "- This IS expected if you are initializing CamembertForSequenceClassification from the checkpoint of a model trained on another task or with another architecture (e.g. initializing a BertForSequenceClassification model from a BertForPreTraining model).\n",
      "- This IS NOT expected if you are initializing CamembertForSequenceClassification from the checkpoint of a model that you expect to be exactly identical (initializing a BertForSequenceClassification model from a BertForSequenceClassification model).\n",
      "Some weights of CamembertForSequenceClassification were not initialized from the model checkpoint at camembert-base and are newly initialized: ['classifier.dense.weight', 'classifier.out_proj.weight', 'classifier.dense.bias', 'classifier.out_proj.bias']\n",
      "You should probably TRAIN this model on a down-stream task to be able to use it for predictions and inference.\n"
     ]
    },
    {
     "data": {
      "application/vnd.jupyter.widget-view+json": {
       "model_id": "5cc9a1f7bea9461fa667820c36248c5e",
       "version_major": 2,
       "version_minor": 0
      },
      "text/plain": [
       "Epoch 1/3 Training:   0%|          | 0/40 [00:00<?, ?it/s]"
      ]
     },
     "metadata": {},
     "output_type": "display_data"
    },
    {
     "name": "stdout",
     "output_type": "stream",
     "text": [
      "Epoch 1/3, Training Loss: 0.6871, Validation Loss: 0.6317, Validation Accuracy: 0.7848\n",
      "Configuration testée: LR=5e-05, Optimizer=Adam, Beta=(0.9, 0.999), Epsilon=1e-08, Weight Decay=0.01, Scheduler=get_linear_schedule_with_warmup\n",
      "--------------------------------------------------------------------------------\n"
     ]
    },
    {
     "data": {
      "application/vnd.jupyter.widget-view+json": {
       "model_id": "f417444ee41d497298099bfe47be202e",
       "version_major": 2,
       "version_minor": 0
      },
      "text/plain": [
       "Epoch 2/3 Training:   0%|          | 0/40 [00:00<?, ?it/s]"
      ]
     },
     "metadata": {},
     "output_type": "display_data"
    },
    {
     "name": "stdout",
     "output_type": "stream",
     "text": [
      "Epoch 2/3, Training Loss: 0.5541, Validation Loss: 0.4812, Validation Accuracy: 0.7848\n",
      "Configuration testée: LR=5e-05, Optimizer=Adam, Beta=(0.9, 0.999), Epsilon=1e-08, Weight Decay=0.01, Scheduler=get_linear_schedule_with_warmup\n",
      "--------------------------------------------------------------------------------\n"
     ]
    },
    {
     "data": {
      "application/vnd.jupyter.widget-view+json": {
       "model_id": "03a3dd5858fe47da8a8a7b0af2dcc636",
       "version_major": 2,
       "version_minor": 0
      },
      "text/plain": [
       "Epoch 3/3 Training:   0%|          | 0/40 [00:00<?, ?it/s]"
      ]
     },
     "metadata": {},
     "output_type": "display_data"
    },
    {
     "name": "stdout",
     "output_type": "stream",
     "text": [
      "Early stopping triggered after epoch 2. Best epoch: 1 with accuracy 0.7848.\n"
     ]
    },
    {
     "name": "stderr",
     "output_type": "stream",
     "text": [
      "Some weights of the model checkpoint at camembert-base were not used when initializing CamembertForSequenceClassification: ['roberta.pooler.dense.weight', 'lm_head.layer_norm.bias', 'lm_head.dense.bias', 'lm_head.layer_norm.weight', 'lm_head.bias', 'lm_head.dense.weight', 'roberta.pooler.dense.bias']\n",
      "- This IS expected if you are initializing CamembertForSequenceClassification from the checkpoint of a model trained on another task or with another architecture (e.g. initializing a BertForSequenceClassification model from a BertForPreTraining model).\n",
      "- This IS NOT expected if you are initializing CamembertForSequenceClassification from the checkpoint of a model that you expect to be exactly identical (initializing a BertForSequenceClassification model from a BertForSequenceClassification model).\n",
      "Some weights of CamembertForSequenceClassification were not initialized from the model checkpoint at camembert-base and are newly initialized: ['classifier.dense.weight', 'classifier.out_proj.weight', 'classifier.dense.bias', 'classifier.out_proj.bias']\n",
      "You should probably TRAIN this model on a down-stream task to be able to use it for predictions and inference.\n"
     ]
    },
    {
     "data": {
      "application/vnd.jupyter.widget-view+json": {
       "model_id": "f660c5c7c8a84301bd69ef691d35f50e",
       "version_major": 2,
       "version_minor": 0
      },
      "text/plain": [
       "Epoch 1/3 Training:   0%|          | 0/40 [00:00<?, ?it/s]"
      ]
     },
     "metadata": {},
     "output_type": "display_data"
    },
    {
     "name": "stdout",
     "output_type": "stream",
     "text": [
      "Epoch 1/3, Training Loss: 0.6902, Validation Loss: 0.6771, Validation Accuracy: 0.6962\n",
      "Configuration testée: LR=5e-05, Optimizer=Adam, Beta=(0.9, 0.999), Epsilon=1e-08, Weight Decay=0.01, Scheduler=ExponentialLR\n",
      "--------------------------------------------------------------------------------\n"
     ]
    },
    {
     "data": {
      "application/vnd.jupyter.widget-view+json": {
       "model_id": "420b169780ff462ab24f955bd5b6d940",
       "version_major": 2,
       "version_minor": 0
      },
      "text/plain": [
       "Epoch 2/3 Training:   0%|          | 0/40 [00:00<?, ?it/s]"
      ]
     },
     "metadata": {},
     "output_type": "display_data"
    },
    {
     "name": "stdout",
     "output_type": "stream",
     "text": [
      "Epoch 2/3, Training Loss: 0.6684, Validation Loss: 0.6746, Validation Accuracy: 0.6582\n",
      "Configuration testée: LR=5e-05, Optimizer=Adam, Beta=(0.9, 0.999), Epsilon=1e-08, Weight Decay=0.01, Scheduler=ExponentialLR\n",
      "--------------------------------------------------------------------------------\n"
     ]
    },
    {
     "data": {
      "application/vnd.jupyter.widget-view+json": {
       "model_id": "9ddf32eac74744c1a66e9e329801a2fa",
       "version_major": 2,
       "version_minor": 0
      },
      "text/plain": [
       "Epoch 3/3 Training:   0%|          | 0/40 [00:00<?, ?it/s]"
      ]
     },
     "metadata": {},
     "output_type": "display_data"
    },
    {
     "name": "stdout",
     "output_type": "stream",
     "text": [
      "Early stopping triggered after epoch 2. Best epoch: 1 with accuracy 0.6962.\n"
     ]
    },
    {
     "name": "stderr",
     "output_type": "stream",
     "text": [
      "Some weights of the model checkpoint at camembert-base were not used when initializing CamembertForSequenceClassification: ['roberta.pooler.dense.weight', 'lm_head.layer_norm.bias', 'lm_head.dense.bias', 'lm_head.layer_norm.weight', 'lm_head.bias', 'lm_head.dense.weight', 'roberta.pooler.dense.bias']\n",
      "- This IS expected if you are initializing CamembertForSequenceClassification from the checkpoint of a model trained on another task or with another architecture (e.g. initializing a BertForSequenceClassification model from a BertForPreTraining model).\n",
      "- This IS NOT expected if you are initializing CamembertForSequenceClassification from the checkpoint of a model that you expect to be exactly identical (initializing a BertForSequenceClassification model from a BertForSequenceClassification model).\n",
      "Some weights of CamembertForSequenceClassification were not initialized from the model checkpoint at camembert-base and are newly initialized: ['classifier.dense.weight', 'classifier.out_proj.weight', 'classifier.dense.bias', 'classifier.out_proj.bias']\n",
      "You should probably TRAIN this model on a down-stream task to be able to use it for predictions and inference.\n"
     ]
    },
    {
     "data": {
      "application/vnd.jupyter.widget-view+json": {
       "model_id": "77b5fcd5cacd403a83963c8132b6a4e8",
       "version_major": 2,
       "version_minor": 0
      },
      "text/plain": [
       "Epoch 1/3 Training:   0%|          | 0/40 [00:00<?, ?it/s]"
      ]
     },
     "metadata": {},
     "output_type": "display_data"
    },
    {
     "name": "stdout",
     "output_type": "stream",
     "text": [
      "Epoch 1/3, Training Loss: 0.6932, Validation Loss: 0.6888, Validation Accuracy: 0.5570\n",
      "Configuration testée: LR=2e-05, Optimizer=AdamW, Beta=(0.9, 0.999), Epsilon=1e-08, Weight Decay=0.01, Scheduler=get_linear_schedule_with_warmup\n",
      "--------------------------------------------------------------------------------\n"
     ]
    },
    {
     "data": {
      "application/vnd.jupyter.widget-view+json": {
       "model_id": "fdd8149b7bff461e8f105c85a1bd8e16",
       "version_major": 2,
       "version_minor": 0
      },
      "text/plain": [
       "Epoch 2/3 Training:   0%|          | 0/40 [00:00<?, ?it/s]"
      ]
     },
     "metadata": {},
     "output_type": "display_data"
    },
    {
     "name": "stdout",
     "output_type": "stream",
     "text": [
      "Epoch 2/3, Training Loss: 0.6776, Validation Loss: 0.6547, Validation Accuracy: 0.8101\n",
      "Configuration testée: LR=2e-05, Optimizer=AdamW, Beta=(0.9, 0.999), Epsilon=1e-08, Weight Decay=0.01, Scheduler=get_linear_schedule_with_warmup\n",
      "--------------------------------------------------------------------------------\n"
     ]
    },
    {
     "data": {
      "application/vnd.jupyter.widget-view+json": {
       "model_id": "798bd8a7b9df43e69afac0fd2fc04215",
       "version_major": 2,
       "version_minor": 0
      },
      "text/plain": [
       "Epoch 3/3 Training:   0%|          | 0/40 [00:00<?, ?it/s]"
      ]
     },
     "metadata": {},
     "output_type": "display_data"
    },
    {
     "name": "stdout",
     "output_type": "stream",
     "text": [
      "Epoch 3/3, Training Loss: 0.6354, Validation Loss: 0.6109, Validation Accuracy: 0.8228\n",
      "Configuration testée: LR=2e-05, Optimizer=AdamW, Beta=(0.9, 0.999), Epsilon=1e-08, Weight Decay=0.01, Scheduler=get_linear_schedule_with_warmup\n",
      "--------------------------------------------------------------------------------\n"
     ]
    },
    {
     "name": "stderr",
     "output_type": "stream",
     "text": [
      "Some weights of the model checkpoint at camembert-base were not used when initializing CamembertForSequenceClassification: ['roberta.pooler.dense.weight', 'lm_head.layer_norm.bias', 'lm_head.dense.bias', 'lm_head.layer_norm.weight', 'lm_head.bias', 'lm_head.dense.weight', 'roberta.pooler.dense.bias']\n",
      "- This IS expected if you are initializing CamembertForSequenceClassification from the checkpoint of a model trained on another task or with another architecture (e.g. initializing a BertForSequenceClassification model from a BertForPreTraining model).\n",
      "- This IS NOT expected if you are initializing CamembertForSequenceClassification from the checkpoint of a model that you expect to be exactly identical (initializing a BertForSequenceClassification model from a BertForSequenceClassification model).\n",
      "Some weights of CamembertForSequenceClassification were not initialized from the model checkpoint at camembert-base and are newly initialized: ['classifier.dense.weight', 'classifier.out_proj.weight', 'classifier.dense.bias', 'classifier.out_proj.bias']\n",
      "You should probably TRAIN this model on a down-stream task to be able to use it for predictions and inference.\n"
     ]
    },
    {
     "data": {
      "application/vnd.jupyter.widget-view+json": {
       "model_id": "0b4fe9b746f64ed58e39338f1826fa9c",
       "version_major": 2,
       "version_minor": 0
      },
      "text/plain": [
       "Epoch 1/3 Training:   0%|          | 0/40 [00:00<?, ?it/s]"
      ]
     },
     "metadata": {},
     "output_type": "display_data"
    },
    {
     "name": "stdout",
     "output_type": "stream",
     "text": [
      "Epoch 1/3, Training Loss: 0.6940, Validation Loss: 0.6884, Validation Accuracy: 0.5696\n",
      "Configuration testée: LR=2e-05, Optimizer=AdamW, Beta=(0.9, 0.999), Epsilon=1e-08, Weight Decay=0.01, Scheduler=ExponentialLR\n",
      "--------------------------------------------------------------------------------\n"
     ]
    },
    {
     "data": {
      "application/vnd.jupyter.widget-view+json": {
       "model_id": "ef444c34dc8d4112987b9a59e9144599",
       "version_major": 2,
       "version_minor": 0
      },
      "text/plain": [
       "Epoch 2/3 Training:   0%|          | 0/40 [00:00<?, ?it/s]"
      ]
     },
     "metadata": {},
     "output_type": "display_data"
    },
    {
     "name": "stdout",
     "output_type": "stream",
     "text": [
      "Epoch 2/3, Training Loss: 0.6888, Validation Loss: 0.6884, Validation Accuracy: 0.5316\n",
      "Configuration testée: LR=2e-05, Optimizer=AdamW, Beta=(0.9, 0.999), Epsilon=1e-08, Weight Decay=0.01, Scheduler=ExponentialLR\n",
      "--------------------------------------------------------------------------------\n"
     ]
    },
    {
     "data": {
      "application/vnd.jupyter.widget-view+json": {
       "model_id": "213bac15397e4cca9b1f5caac9319341",
       "version_major": 2,
       "version_minor": 0
      },
      "text/plain": [
       "Epoch 3/3 Training:   0%|          | 0/40 [00:00<?, ?it/s]"
      ]
     },
     "metadata": {},
     "output_type": "display_data"
    },
    {
     "name": "stdout",
     "output_type": "stream",
     "text": [
      "Early stopping triggered after epoch 2. Best epoch: 1 with accuracy 0.5696.\n"
     ]
    },
    {
     "name": "stderr",
     "output_type": "stream",
     "text": [
      "Some weights of the model checkpoint at camembert-base were not used when initializing CamembertForSequenceClassification: ['roberta.pooler.dense.weight', 'lm_head.layer_norm.bias', 'lm_head.dense.bias', 'lm_head.layer_norm.weight', 'lm_head.bias', 'lm_head.dense.weight', 'roberta.pooler.dense.bias']\n",
      "- This IS expected if you are initializing CamembertForSequenceClassification from the checkpoint of a model trained on another task or with another architecture (e.g. initializing a BertForSequenceClassification model from a BertForPreTraining model).\n",
      "- This IS NOT expected if you are initializing CamembertForSequenceClassification from the checkpoint of a model that you expect to be exactly identical (initializing a BertForSequenceClassification model from a BertForSequenceClassification model).\n",
      "Some weights of CamembertForSequenceClassification were not initialized from the model checkpoint at camembert-base and are newly initialized: ['classifier.dense.weight', 'classifier.out_proj.weight', 'classifier.dense.bias', 'classifier.out_proj.bias']\n",
      "You should probably TRAIN this model on a down-stream task to be able to use it for predictions and inference.\n"
     ]
    },
    {
     "data": {
      "application/vnd.jupyter.widget-view+json": {
       "model_id": "6737d0546dc24966af597b8b6a2ae8c2",
       "version_major": 2,
       "version_minor": 0
      },
      "text/plain": [
       "Epoch 1/3 Training:   0%|          | 0/40 [00:00<?, ?it/s]"
      ]
     },
     "metadata": {},
     "output_type": "display_data"
    },
    {
     "name": "stdout",
     "output_type": "stream",
     "text": [
      "Epoch 1/3, Training Loss: 0.6912, Validation Loss: 0.6843, Validation Accuracy: 0.6582\n",
      "Configuration testée: LR=2e-05, Optimizer=Adam, Beta=(0.9, 0.999), Epsilon=1e-08, Weight Decay=0.01, Scheduler=get_linear_schedule_with_warmup\n",
      "--------------------------------------------------------------------------------\n"
     ]
    },
    {
     "data": {
      "application/vnd.jupyter.widget-view+json": {
       "model_id": "e9eb2d99186d4c92ac580acee6184cb5",
       "version_major": 2,
       "version_minor": 0
      },
      "text/plain": [
       "Epoch 2/3 Training:   0%|          | 0/40 [00:00<?, ?it/s]"
      ]
     },
     "metadata": {},
     "output_type": "display_data"
    },
    {
     "name": "stdout",
     "output_type": "stream",
     "text": [
      "Epoch 2/3, Training Loss: 0.6718, Validation Loss: 0.6586, Validation Accuracy: 0.6835\n",
      "Configuration testée: LR=2e-05, Optimizer=Adam, Beta=(0.9, 0.999), Epsilon=1e-08, Weight Decay=0.01, Scheduler=get_linear_schedule_with_warmup\n",
      "--------------------------------------------------------------------------------\n"
     ]
    },
    {
     "data": {
      "application/vnd.jupyter.widget-view+json": {
       "model_id": "7ddae3b2c030414ca063d1624d03741d",
       "version_major": 2,
       "version_minor": 0
      },
      "text/plain": [
       "Epoch 3/3 Training:   0%|          | 0/40 [00:00<?, ?it/s]"
      ]
     },
     "metadata": {},
     "output_type": "display_data"
    },
    {
     "name": "stdout",
     "output_type": "stream",
     "text": [
      "Epoch 3/3, Training Loss: 0.6436, Validation Loss: 0.6371, Validation Accuracy: 0.7089\n",
      "Configuration testée: LR=2e-05, Optimizer=Adam, Beta=(0.9, 0.999), Epsilon=1e-08, Weight Decay=0.01, Scheduler=get_linear_schedule_with_warmup\n",
      "--------------------------------------------------------------------------------\n"
     ]
    },
    {
     "name": "stderr",
     "output_type": "stream",
     "text": [
      "Some weights of the model checkpoint at camembert-base were not used when initializing CamembertForSequenceClassification: ['roberta.pooler.dense.weight', 'lm_head.layer_norm.bias', 'lm_head.dense.bias', 'lm_head.layer_norm.weight', 'lm_head.bias', 'lm_head.dense.weight', 'roberta.pooler.dense.bias']\n",
      "- This IS expected if you are initializing CamembertForSequenceClassification from the checkpoint of a model trained on another task or with another architecture (e.g. initializing a BertForSequenceClassification model from a BertForPreTraining model).\n",
      "- This IS NOT expected if you are initializing CamembertForSequenceClassification from the checkpoint of a model that you expect to be exactly identical (initializing a BertForSequenceClassification model from a BertForSequenceClassification model).\n",
      "Some weights of CamembertForSequenceClassification were not initialized from the model checkpoint at camembert-base and are newly initialized: ['classifier.dense.weight', 'classifier.out_proj.weight', 'classifier.dense.bias', 'classifier.out_proj.bias']\n",
      "You should probably TRAIN this model on a down-stream task to be able to use it for predictions and inference.\n"
     ]
    },
    {
     "data": {
      "application/vnd.jupyter.widget-view+json": {
       "model_id": "db989054827b4f5bbbd391b3e32e115b",
       "version_major": 2,
       "version_minor": 0
      },
      "text/plain": [
       "Epoch 1/3 Training:   0%|          | 0/40 [00:00<?, ?it/s]"
      ]
     },
     "metadata": {},
     "output_type": "display_data"
    },
    {
     "name": "stdout",
     "output_type": "stream",
     "text": [
      "Epoch 1/3, Training Loss: 0.6936, Validation Loss: 0.6895, Validation Accuracy: 0.6329\n",
      "Configuration testée: LR=2e-05, Optimizer=Adam, Beta=(0.9, 0.999), Epsilon=1e-08, Weight Decay=0.01, Scheduler=ExponentialLR\n",
      "--------------------------------------------------------------------------------\n"
     ]
    },
    {
     "data": {
      "application/vnd.jupyter.widget-view+json": {
       "model_id": "6469c2f294b5456fbd1027560a243720",
       "version_major": 2,
       "version_minor": 0
      },
      "text/plain": [
       "Epoch 2/3 Training:   0%|          | 0/40 [00:00<?, ?it/s]"
      ]
     },
     "metadata": {},
     "output_type": "display_data"
    },
    {
     "name": "stdout",
     "output_type": "stream",
     "text": [
      "Epoch 2/3, Training Loss: 0.6885, Validation Loss: 0.6903, Validation Accuracy: 0.6076\n",
      "Configuration testée: LR=2e-05, Optimizer=Adam, Beta=(0.9, 0.999), Epsilon=1e-08, Weight Decay=0.01, Scheduler=ExponentialLR\n",
      "--------------------------------------------------------------------------------\n"
     ]
    },
    {
     "data": {
      "application/vnd.jupyter.widget-view+json": {
       "model_id": "f36d17dc72eb4c8d9e012b077cbb1867",
       "version_major": 2,
       "version_minor": 0
      },
      "text/plain": [
       "Epoch 3/3 Training:   0%|          | 0/40 [00:00<?, ?it/s]"
      ]
     },
     "metadata": {},
     "output_type": "display_data"
    },
    {
     "name": "stdout",
     "output_type": "stream",
     "text": [
      "Early stopping triggered after epoch 2. Best epoch: 1 with accuracy 0.6329.\n",
      "Meilleure précision de validation globale: 0.8227848101265823\n",
      "Configuration correspondante: {'best_accuracy': 0.8227848101265823, 'lr': 5e-05, 'optimizer': 'AdamW', 'beta': (0.9, 0.999), 'epsilon': 1e-08, 'weight_decay': 0.01, 'scheduler_name': 'get_linear_schedule_with_warmup', 'train_losses': [0.6838522955775261, 0.545709329098463, 0.3900749921798706], 'validation_losses': [0.6348847389221192, 0.47653392553329466, 0.4664795219898224]}\n"
     ]
    }
   ],
   "source": [
    "results = []\n",
    "\n",
    "# Boucle sur les configurations d'hyperparamètres\n",
    "for lr in learning_rates:\n",
    "    for optimizer_name in optimizers:\n",
    "        for beta in adam_params['betas']:\n",
    "            for epsilon in adam_params['eps']:\n",
    "                for weight_decay in adamw_params.get('weight_decay', [0]):  # Utilise [0] comme valeur par défaut si non spécifié\n",
    "                    for scheduler_name in schedulers:\n",
    "                        # Réinitialisation du modèle pour chaque configuration\n",
    "                        model = CamembertForSequenceClassification.from_pretrained(\n",
    "                            'camembert-base',\n",
    "                            num_labels=2).to(device)\n",
    "\n",
    "                        # Obtention de l'optimiseur et du scheduler pour la configuration courante\n",
    "                        optimizer, scheduler = get_optimizer_scheduler(\n",
    "                            model, optimizer_name, lr, beta, epsilon, weight_decay,\n",
    "                            scheduler_name, num_warmup_steps, total_steps\n",
    "                        )\n",
    "\n",
    "                        # Entraînement et évaluation du modèle avec la configuration courante\n",
    "                        best_accuracy, best_model_state, best_epoch,all_train_losses, all_validation_losses = train_and_evaluate(\n",
    "                            model, train_loader, validation_loader, optimizer, scheduler, epochs, patience_for_early_stopping\n",
    "                        )\n",
    "\n",
    "\n",
    "                        # Ajout des résultats à la liste pour tableau ci-dessous\n",
    "                        results.append({\n",
    "                            'LR': lr,\n",
    "                            'Optimizer': optimizer_name,\n",
    "                            'Beta': beta,\n",
    "                            'Epsilon': epsilon,\n",
    "                            'Weight Decay': weight_decay,\n",
    "                            'Scheduler': scheduler_name,\n",
    "                            'Best Accuracy': best_accuracy,\n",
    "                            'Training Losses': all_train_losses,\n",
    "                            'Validation Losses': all_validation_losses,\n",
    "                        })\n",
    "\n",
    "                        # Mise à jour du meilleur modèle global si nécessaire\n",
    "                        if best_accuracy > best_global_accuracy:\n",
    "                            best_global_accuracy = best_accuracy\n",
    "                            best_model_weights = best_model_state\n",
    "                            best_config = {\n",
    "                                'best_accuracy': best_accuracy,\n",
    "                                'lr': lr,\n",
    "                                'optimizer': optimizer_name,\n",
    "                                'beta': beta,\n",
    "                                'epsilon': epsilon,\n",
    "                                'weight_decay': weight_decay,\n",
    "                                'scheduler_name': scheduler_name,\n",
    "                                'train_losses': all_train_losses,\n",
    "                                'validation_losses': all_validation_losses\n",
    "                            }\n",
    "\n",
    "                            \n",
    "                            \n",
    "# Sauvegarde des meilleurs poids du modèle et affichage de la meilleure configuration\n",
    "if best_model_weights is not None:\n",
    "    torch.save(best_model_weights, 'best_model_weights.pth')\n",
    "    print(f\"Meilleure précision de validation globale: {best_global_accuracy}\")\n",
    "    print(\"Configuration correspondante:\", best_config)\n",
    "else:\n",
    "    print(\"Aucune amélioration trouvée.\")\n"
   ]
  },
  {
   "cell_type": "code",
   "execution_count": 191,
   "metadata": {},
   "outputs": [
    {
     "data": {
      "text/html": [
       "<div>\n",
       "<style scoped>\n",
       "    .dataframe tbody tr th:only-of-type {\n",
       "        vertical-align: middle;\n",
       "    }\n",
       "\n",
       "    .dataframe tbody tr th {\n",
       "        vertical-align: top;\n",
       "    }\n",
       "\n",
       "    .dataframe thead th {\n",
       "        text-align: right;\n",
       "    }\n",
       "</style>\n",
       "<table border=\"1\" class=\"dataframe\">\n",
       "  <thead>\n",
       "    <tr style=\"text-align: right;\">\n",
       "      <th></th>\n",
       "      <th>LR</th>\n",
       "      <th>Optimizer</th>\n",
       "      <th>Beta</th>\n",
       "      <th>Epsilon</th>\n",
       "      <th>Weight Decay</th>\n",
       "      <th>Scheduler</th>\n",
       "      <th>Best Accuracy</th>\n",
       "      <th>Training Losses</th>\n",
       "      <th>Validation Losses</th>\n",
       "    </tr>\n",
       "  </thead>\n",
       "  <tbody>\n",
       "    <tr>\n",
       "      <th>0</th>\n",
       "      <td>0.00005</td>\n",
       "      <td>AdamW</td>\n",
       "      <td>(0.9, 0.999)</td>\n",
       "      <td>1.000000e-08</td>\n",
       "      <td>0.01</td>\n",
       "      <td>get_linear_schedule_with_warmup</td>\n",
       "      <td>0.822785</td>\n",
       "      <td>[0.6838522955775261, 0.545709329098463, 0.3900...</td>\n",
       "      <td>[0.6348847389221192, 0.47653392553329466, 0.46...</td>\n",
       "    </tr>\n",
       "    <tr>\n",
       "      <th>1</th>\n",
       "      <td>0.00005</td>\n",
       "      <td>AdamW</td>\n",
       "      <td>(0.9, 0.999)</td>\n",
       "      <td>1.000000e-08</td>\n",
       "      <td>0.01</td>\n",
       "      <td>ExponentialLR</td>\n",
       "      <td>0.721519</td>\n",
       "      <td>[0.6871534615755082, 0.6681246280670166, 0.661...</td>\n",
       "      <td>[0.6809776544570922, 0.6668749332427979, 0.664...</td>\n",
       "    </tr>\n",
       "    <tr>\n",
       "      <th>2</th>\n",
       "      <td>0.00005</td>\n",
       "      <td>Adam</td>\n",
       "      <td>(0.9, 0.999)</td>\n",
       "      <td>1.000000e-08</td>\n",
       "      <td>0.01</td>\n",
       "      <td>get_linear_schedule_with_warmup</td>\n",
       "      <td>0.784810</td>\n",
       "      <td>[0.6870987445116044, 0.5541303858160973, 0.390...</td>\n",
       "      <td>[0.6316707611083985, 0.4811819612979889, 0.494...</td>\n",
       "    </tr>\n",
       "    <tr>\n",
       "      <th>3</th>\n",
       "      <td>0.00005</td>\n",
       "      <td>Adam</td>\n",
       "      <td>(0.9, 0.999)</td>\n",
       "      <td>1.000000e-08</td>\n",
       "      <td>0.01</td>\n",
       "      <td>ExponentialLR</td>\n",
       "      <td>0.696203</td>\n",
       "      <td>[0.6901566684246063, 0.6684052929282188, 0.662...</td>\n",
       "      <td>[0.6770564794540406, 0.6746486306190491, 0.673...</td>\n",
       "    </tr>\n",
       "    <tr>\n",
       "      <th>4</th>\n",
       "      <td>0.00002</td>\n",
       "      <td>AdamW</td>\n",
       "      <td>(0.9, 0.999)</td>\n",
       "      <td>1.000000e-08</td>\n",
       "      <td>0.01</td>\n",
       "      <td>get_linear_schedule_with_warmup</td>\n",
       "      <td>0.822785</td>\n",
       "      <td>[0.6931596785783768, 0.6776052609086036, 0.635...</td>\n",
       "      <td>[0.6888203978538513, 0.6546943545341491, 0.610...</td>\n",
       "    </tr>\n",
       "    <tr>\n",
       "      <th>5</th>\n",
       "      <td>0.00002</td>\n",
       "      <td>AdamW</td>\n",
       "      <td>(0.9, 0.999)</td>\n",
       "      <td>1.000000e-08</td>\n",
       "      <td>0.01</td>\n",
       "      <td>ExponentialLR</td>\n",
       "      <td>0.569620</td>\n",
       "      <td>[0.693953900039196, 0.688806089758873, 0.68496...</td>\n",
       "      <td>[0.6884450316429138, 0.6883666276931762, 0.688...</td>\n",
       "    </tr>\n",
       "    <tr>\n",
       "      <th>6</th>\n",
       "      <td>0.00002</td>\n",
       "      <td>Adam</td>\n",
       "      <td>(0.9, 0.999)</td>\n",
       "      <td>1.000000e-08</td>\n",
       "      <td>0.01</td>\n",
       "      <td>get_linear_schedule_with_warmup</td>\n",
       "      <td>0.708861</td>\n",
       "      <td>[0.691212946176529, 0.671846079826355, 0.64358...</td>\n",
       "      <td>[0.684297502040863, 0.6585717916488647, 0.6371...</td>\n",
       "    </tr>\n",
       "    <tr>\n",
       "      <th>7</th>\n",
       "      <td>0.00002</td>\n",
       "      <td>Adam</td>\n",
       "      <td>(0.9, 0.999)</td>\n",
       "      <td>1.000000e-08</td>\n",
       "      <td>0.01</td>\n",
       "      <td>ExponentialLR</td>\n",
       "      <td>0.632911</td>\n",
       "      <td>[0.6936195209622383, 0.6884674787521362, 0.687...</td>\n",
       "      <td>[0.6895143389701843, 0.6902574896812439, 0.690...</td>\n",
       "    </tr>\n",
       "  </tbody>\n",
       "</table>\n",
       "</div>"
      ],
      "text/plain": [
       "        LR Optimizer          Beta       Epsilon  Weight Decay  \\\n",
       "0  0.00005     AdamW  (0.9, 0.999)  1.000000e-08          0.01   \n",
       "1  0.00005     AdamW  (0.9, 0.999)  1.000000e-08          0.01   \n",
       "2  0.00005      Adam  (0.9, 0.999)  1.000000e-08          0.01   \n",
       "3  0.00005      Adam  (0.9, 0.999)  1.000000e-08          0.01   \n",
       "4  0.00002     AdamW  (0.9, 0.999)  1.000000e-08          0.01   \n",
       "5  0.00002     AdamW  (0.9, 0.999)  1.000000e-08          0.01   \n",
       "6  0.00002      Adam  (0.9, 0.999)  1.000000e-08          0.01   \n",
       "7  0.00002      Adam  (0.9, 0.999)  1.000000e-08          0.01   \n",
       "\n",
       "                         Scheduler  Best Accuracy  \\\n",
       "0  get_linear_schedule_with_warmup       0.822785   \n",
       "1                    ExponentialLR       0.721519   \n",
       "2  get_linear_schedule_with_warmup       0.784810   \n",
       "3                    ExponentialLR       0.696203   \n",
       "4  get_linear_schedule_with_warmup       0.822785   \n",
       "5                    ExponentialLR       0.569620   \n",
       "6  get_linear_schedule_with_warmup       0.708861   \n",
       "7                    ExponentialLR       0.632911   \n",
       "\n",
       "                                     Training Losses  \\\n",
       "0  [0.6838522955775261, 0.545709329098463, 0.3900...   \n",
       "1  [0.6871534615755082, 0.6681246280670166, 0.661...   \n",
       "2  [0.6870987445116044, 0.5541303858160973, 0.390...   \n",
       "3  [0.6901566684246063, 0.6684052929282188, 0.662...   \n",
       "4  [0.6931596785783768, 0.6776052609086036, 0.635...   \n",
       "5  [0.693953900039196, 0.688806089758873, 0.68496...   \n",
       "6  [0.691212946176529, 0.671846079826355, 0.64358...   \n",
       "7  [0.6936195209622383, 0.6884674787521362, 0.687...   \n",
       "\n",
       "                                   Validation Losses  \n",
       "0  [0.6348847389221192, 0.47653392553329466, 0.46...  \n",
       "1  [0.6809776544570922, 0.6668749332427979, 0.664...  \n",
       "2  [0.6316707611083985, 0.4811819612979889, 0.494...  \n",
       "3  [0.6770564794540406, 0.6746486306190491, 0.673...  \n",
       "4  [0.6888203978538513, 0.6546943545341491, 0.610...  \n",
       "5  [0.6884450316429138, 0.6883666276931762, 0.688...  \n",
       "6  [0.684297502040863, 0.6585717916488647, 0.6371...  \n",
       "7  [0.6895143389701843, 0.6902574896812439, 0.690...  "
      ]
     },
     "execution_count": 191,
     "metadata": {},
     "output_type": "execute_result"
    }
   ],
   "source": [
    "# Conversion de 'results' en DataFrame pour un affichage sous forme de tableau\n",
    "results_df = pd.DataFrame(results)\n",
    "results_df"
   ]
  },
  {
   "cell_type": "code",
   "execution_count": 192,
   "metadata": {},
   "outputs": [
    {
     "name": "stdout",
     "output_type": "stream",
     "text": [
      "[0.6348847389221192, 0.47653392553329466, 0.4664795219898224]\n"
     ]
    }
   ],
   "source": [
    "print(best_config['validation_losses'])"
   ]
  },
  {
   "cell_type": "code",
   "execution_count": 193,
   "metadata": {},
   "outputs": [
    {
     "name": "stdout",
     "output_type": "stream",
     "text": [
      "[0.6838522955775261, 0.545709329098463, 0.3900749921798706]\n"
     ]
    }
   ],
   "source": [
    "print(best_config['train_losses'])"
   ]
  },
  {
   "cell_type": "code",
   "execution_count": 194,
   "metadata": {},
   "outputs": [
    {
     "data": {
      "image/png": "[encoded data removed]",
      "text/plain": [
       "<Figure size 640x480 with 1 Axes>"
      ]
     },
     "metadata": {},
     "output_type": "display_data"
    }
   ],
   "source": [
    "epochs = range(1, len(best_config['train_losses']) + 1)\n",
    "plt.plot(epochs, best_config['train_losses'], label='Training Loss')\n",
    "plt.plot(epochs, best_config['validation_losses'], label='Validation Loss', linestyle='--')\n",
    "plt.title('Best Configuration: Training and Validation Loss')\n",
    "plt.xlabel('Epoch')\n",
    "plt.ylabel('Loss')\n",
    "plt.legend()\n",
    "plt.show()\n"
   ]
  },
  {
   "cell_type": "markdown",
   "metadata": {},
   "source": [
    "# tester le modele entrainé sur des données non vues auparavant et metriques:"
   ]
  },
  {
   "cell_type": "code",
   "execution_count": 195,
   "metadata": {},
   "outputs": [],
   "source": [
    "def evaluate_performance(model, test_loader, device, pos_label=1):\n",
    "    model.eval()\n",
    "    predictions, true_labels = [], []\n",
    "    progress_bar = tqdm(test_loader, desc=\"Evaluating\", leave=True)\n",
    "    with torch.no_grad():\n",
    "        for batch in progress_bar:\n",
    "            input_ids = batch['input_ids'].to(device)\n",
    "            attention_mask = batch['attention_mask'].to(device)\n",
    "            labels = batch['labels'].to(device)\n",
    "            outputs = model(input_ids, attention_mask=attention_mask)\n",
    "            logits = outputs.logits\n",
    "            predictions.extend(torch.argmax(logits, dim=-1).tolist())\n",
    "            true_labels.extend(labels.tolist())\n",
    "\n",
    "    precision, recall, f1, _ = precision_recall_fscore_support(true_labels, predictions, average='binary', pos_label=pos_label)\n",
    "    accuracy = accuracy_score(true_labels, predictions)\n",
    "    confusion = confusion_matrix(true_labels, predictions)\n",
    "\n",
    "    print(f'Accuracy: {accuracy:.4f}')\n",
    "    print(f'Precision (for class {pos_label}): {precision:.4f}')\n",
    "    print(f'Recall (for class {pos_label}): {recall:.4f}')\n",
    "    print(f'F1 Score (for class {pos_label}): {f1:.4f}')\n",
    "\n",
    "    sns.heatmap(confusion, annot=True, fmt='d', cmap='Blues', xticklabels=['Negative', 'Positive'], yticklabels=['Negative', 'Positive'])\n",
    "    plt.ylabel('Actual')\n",
    "    plt.xlabel('Predicted')\n",
    "    plt.title('Confusion Matrix')\n",
    "    plt.show()\n"
   ]
  },
  {
   "cell_type": "code",
   "execution_count": 196,
   "metadata": {},
   "outputs": [
    {
     "data": {
      "application/vnd.jupyter.widget-view+json": {
       "model_id": "28bad71f90954d5faa9dc6f4b4323379",
       "version_major": 2,
       "version_minor": 0
      },
      "text/plain": [
       "Evaluating:   0%|          | 0/5 [00:00<?, ?it/s]"
      ]
     },
     "metadata": {},
     "output_type": "display_data"
    },
    {
     "name": "stdout",
     "output_type": "stream",
     "text": [
      "Accuracy: 0.6709\n",
      "Precision (for class 1): 0.6364\n",
      "Recall (for class 1): 0.9545\n",
      "F1 Score (for class 1): 0.7636\n"
     ]
    },
    {
     "data": {
      "image/png": "[encoded data removed]",
      "text/plain": [
       "<Figure size 640x480 with 2 Axes>"
      ]
     },
     "metadata": {},
     "output_type": "display_data"
    }
   ],
   "source": [
    "evaluate_performance(model, test_loader, device)\n"
   ]
  },
  {
   "cell_type": "code",
   "execution_count": null,
   "metadata": {},
   "outputs": [],
   "source": []
  },
  {
   "cell_type": "code",
   "execution_count": null,
   "metadata": {},
   "outputs": [],
   "source": []
  },
  {
   "cell_type": "code",
   "execution_count": null,
   "metadata": {},
   "outputs": [],
   "source": []
  },
  {
   "cell_type": "code",
   "execution_count": null,
   "metadata": {},
   "outputs": [],
   "source": []
  }
 ],
 "metadata": {
  "accelerator": "TPU",
  "colab": {
   "authorship_tag": "ABX9TyNuJnBaY4Jz4S1PaTzSterQ",
   "cell_execution_strategy": "setup",
   "mount_file_id": "1ifks3-TZAGi1XTtWOLX-GhZNParNUT0S",
   "provenance": [
    {
     "file_id": "1vW_XKbfazNLfEWqUvb_8KZNI8PBx4Pnl",
     "timestamp": 1708445574846
    }
   ]
  },
  "kernelspec": {
   "display_name": "Python 3 (ipykernel)",
   "language": "python",
   "name": "python3"
  },
  "language_info": {
   "codemirror_mode": {
    "name": "ipython",
    "version": 3
   },
   "file_extension": ".py",
   "mimetype": "text/x-python",
   "name": "python",
   "nbconvert_exporter": "python",
   "pygments_lexer": "ipython3",
   "version": "3.9.7"
  },
  "widgets": {
   "application/vnd.jupyter.widget-state+json": {
    "02db19f713474a5d8dd832b81457ca72": {
     "model_module": "@jupyter-widgets/controls",
     "model_module_version": "1.5.0",
     "model_name": "DescriptionStyleModel",
     "state": {
      "_model_module": "@jupyter-widgets/controls",
      "_model_module_version": "1.5.0",
      "_model_name": "DescriptionStyleModel",
      "_view_count": null,
      "_view_module": "@jupyter-widgets/base",
      "_view_module_version": "1.2.0",
      "_view_name": "StyleView",
      "description_width": ""
     }
    },
    "034c9ce0c59e473ebba4df435681ab6d": {
     "model_module": "@jupyter-widgets/controls",
     "model_module_version": "1.5.0",
     "model_name": "DescriptionStyleModel",
     "state": {
      "_model_module": "@jupyter-widgets/controls",
      "_model_module_version": "1.5.0",
      "_model_name": "DescriptionStyleModel",
      "_view_count": null,
      "_view_module": "@jupyter-widgets/base",
      "_view_module_version": "1.2.0",
      "_view_name": "StyleView",
      "description_width": ""
     }
    },
    "1208a3d4bdcc4f44b9eef91d54237e57": {
     "model_module": "@jupyter-widgets/controls",
     "model_module_version": "1.5.0",
     "model_name": "HTMLModel",
     "state": {
      "_dom_classes": [],
      "_model_module": "@jupyter-widgets/controls",
      "_model_module_version": "1.5.0",
      "_model_name": "HTMLModel",
      "_view_count": null,
      "_view_module": "@jupyter-widgets/controls",
      "_view_module_version": "1.5.0",
      "_view_name": "HTMLView",
      "description": "",
      "description_tooltip": null,
      "layout": "IPY_MODEL_a42d99d4d0c84e91a08757240cbccb10",
      "placeholder": "​",
      "style": "IPY_MODEL_dd56d3d78278466687637fd9bfaf3669",
      "value": " 1/1 [00:00&lt;00:00,  3.54it/s]"
     }
    },
    "1c140fa9edff4acbb7cd40479caba343": {
     "model_module": "@jupyter-widgets/base",
     "model_module_version": "1.2.0",
     "model_name": "LayoutModel",
     "state": {
      "_model_module": "@jupyter-widgets/base",
      "_model_module_version": "1.2.0",
      "_model_name": "LayoutModel",
      "_view_count": null,
      "_view_module": "@jupyter-widgets/base",
      "_view_module_version": "1.2.0",
      "_view_name": "LayoutView",
      "align_content": null,
      "align_items": null,
      "align_self": null,
      "border": null,
      "bottom": null,
      "display": null,
      "flex": null,
      "flex_flow": null,
      "grid_area": null,
      "grid_auto_columns": null,
      "grid_auto_flow": null,
      "grid_auto_rows": null,
      "grid_column": null,
      "grid_gap": null,
      "grid_row": null,
      "grid_template_areas": null,
      "grid_template_columns": null,
      "grid_template_rows": null,
      "height": null,
      "justify_content": null,
      "justify_items": null,
      "left": null,
      "margin": null,
      "max_height": null,
      "max_width": null,
      "min_height": null,
      "min_width": null,
      "object_fit": null,
      "object_position": null,
      "order": null,
      "overflow": null,
      "overflow_x": null,
      "overflow_y": null,
      "padding": null,
      "right": null,
      "top": null,
      "visibility": null,
      "width": null
     }
    },
    "2118c44918c349af9b1761c022925ece": {
     "model_module": "@jupyter-widgets/controls",
     "model_module_version": "1.5.0",
     "model_name": "HTMLModel",
     "state": {
      "_dom_classes": [],
      "_model_module": "@jupyter-widgets/controls",
      "_model_module_version": "1.5.0",
      "_model_name": "HTMLModel",
      "_view_count": null,
      "_view_module": "@jupyter-widgets/controls",
      "_view_module_version": "1.5.0",
      "_view_name": "HTMLView",
      "description": "",
      "description_tooltip": null,
      "layout": "IPY_MODEL_69fbd68ca1ac43f0806e42ac1362f6ad",
      "placeholder": "​",
      "style": "IPY_MODEL_2c184ce7ea9d48b590d02633d2094c10",
      "value": " 1/1 [00:00&lt;00:00,  3.48it/s]"
     }
    },
    "221087b552044b0eaf42d0611249e81f": {
     "model_module": "@jupyter-widgets/controls",
     "model_module_version": "1.5.0",
     "model_name": "HTMLModel",
     "state": {
      "_dom_classes": [],
      "_model_module": "@jupyter-widgets/controls",
      "_model_module_version": "1.5.0",
      "_model_name": "HTMLModel",
      "_view_count": null,
      "_view_module": "@jupyter-widgets/controls",
      "_view_module_version": "1.5.0",
      "_view_name": "HTMLView",
      "description": "",
      "description_tooltip": null,
      "layout": "IPY_MODEL_420bf34926ce4574a12963f3276de466",
      "placeholder": "​",
      "style": "IPY_MODEL_d4765475c3044d41a9427af6c0d7691f",
      "value": "Epoch 1/2 Training: 100%"
     }
    },
    "2c184ce7ea9d48b590d02633d2094c10": {
     "model_module": "@jupyter-widgets/controls",
     "model_module_version": "1.5.0",
     "model_name": "DescriptionStyleModel",
     "state": {
      "_model_module": "@jupyter-widgets/controls",
      "_model_module_version": "1.5.0",
      "_model_name": "DescriptionStyleModel",
      "_view_count": null,
      "_view_module": "@jupyter-widgets/base",
      "_view_module_version": "1.2.0",
      "_view_name": "StyleView",
      "description_width": ""
     }
    },
    "2e65cbf574804b2ca32471f6edf51b3a": {
     "model_module": "@jupyter-widgets/controls",
     "model_module_version": "1.5.0",
     "model_name": "HBoxModel",
     "state": {
      "_dom_classes": [],
      "_model_module": "@jupyter-widgets/controls",
      "_model_module_version": "1.5.0",
      "_model_name": "HBoxModel",
      "_view_count": null,
      "_view_module": "@jupyter-widgets/controls",
      "_view_module_version": "1.5.0",
      "_view_name": "HBoxView",
      "box_style": "",
      "children": [
       "IPY_MODEL_f6577ba282b64150a2967089988014f9",
       "IPY_MODEL_57832d7cad4947f6b5b1ca5d125c7f04",
       "IPY_MODEL_bb8d8b3f43cc4a2db48911e4bf55a9fb"
      ],
      "layout": "IPY_MODEL_b48f77870e84472abdfb30f9c21c4141"
     }
    },
    "2fe3d4d5c91b455ea068ef5834ccdbe2": {
     "model_module": "@jupyter-widgets/controls",
     "model_module_version": "1.5.0",
     "model_name": "HTMLModel",
     "state": {
      "_dom_classes": [],
      "_model_module": "@jupyter-widgets/controls",
      "_model_module_version": "1.5.0",
      "_model_name": "HTMLModel",
      "_view_count": null,
      "_view_module": "@jupyter-widgets/controls",
      "_view_module_version": "1.5.0",
      "_view_name": "HTMLView",
      "description": "",
      "description_tooltip": null,
      "layout": "IPY_MODEL_cd93e9578dca46f5aee4ded1b21c27ee",
      "placeholder": "​",
      "style": "IPY_MODEL_abb31f5b75a9450eb6aaeaed82ccb881",
      "value": " 1/1 [00:00&lt;00:00,  3.63it/s]"
     }
    },
    "31df575fc5f348d0b4b9dd9a61d2c9ff": {
     "model_module": "@jupyter-widgets/controls",
     "model_module_version": "1.5.0",
     "model_name": "ProgressStyleModel",
     "state": {
      "_model_module": "@jupyter-widgets/controls",
      "_model_module_version": "1.5.0",
      "_model_name": "ProgressStyleModel",
      "_view_count": null,
      "_view_module": "@jupyter-widgets/base",
      "_view_module_version": "1.2.0",
      "_view_name": "StyleView",
      "bar_color": null,
      "description_width": ""
     }
    },
    "37b390e656eb454d917d2700810504c8": {
     "model_module": "@jupyter-widgets/base",
     "model_module_version": "1.2.0",
     "model_name": "LayoutModel",
     "state": {
      "_model_module": "@jupyter-widgets/base",
      "_model_module_version": "1.2.0",
      "_model_name": "LayoutModel",
      "_view_count": null,
      "_view_module": "@jupyter-widgets/base",
      "_view_module_version": "1.2.0",
      "_view_name": "LayoutView",
      "align_content": null,
      "align_items": null,
      "align_self": null,
      "border": null,
      "bottom": null,
      "display": null,
      "flex": null,
      "flex_flow": null,
      "grid_area": null,
      "grid_auto_columns": null,
      "grid_auto_flow": null,
      "grid_auto_rows": null,
      "grid_column": null,
      "grid_gap": null,
      "grid_row": null,
      "grid_template_areas": null,
      "grid_template_columns": null,
      "grid_template_rows": null,
      "height": null,
      "justify_content": null,
      "justify_items": null,
      "left": null,
      "margin": null,
      "max_height": null,
      "max_width": null,
      "min_height": null,
      "min_width": null,
      "object_fit": null,
      "object_position": null,
      "order": null,
      "overflow": null,
      "overflow_x": null,
      "overflow_y": null,
      "padding": null,
      "right": null,
      "top": null,
      "visibility": null,
      "width": null
     }
    },
    "39824a4cd0a04ab2af6d5cd7da2e1e52": {
     "model_module": "@jupyter-widgets/base",
     "model_module_version": "1.2.0",
     "model_name": "LayoutModel",
     "state": {
      "_model_module": "@jupyter-widgets/base",
      "_model_module_version": "1.2.0",
      "_model_name": "LayoutModel",
      "_view_count": null,
      "_view_module": "@jupyter-widgets/base",
      "_view_module_version": "1.2.0",
      "_view_name": "LayoutView",
      "align_content": null,
      "align_items": null,
      "align_self": null,
      "border": null,
      "bottom": null,
      "display": null,
      "flex": null,
      "flex_flow": null,
      "grid_area": null,
      "grid_auto_columns": null,
      "grid_auto_flow": null,
      "grid_auto_rows": null,
      "grid_column": null,
      "grid_gap": null,
      "grid_row": null,
      "grid_template_areas": null,
      "grid_template_columns": null,
      "grid_template_rows": null,
      "height": null,
      "justify_content": null,
      "justify_items": null,
      "left": null,
      "margin": null,
      "max_height": null,
      "max_width": null,
      "min_height": null,
      "min_width": null,
      "object_fit": null,
      "object_position": null,
      "order": null,
      "overflow": null,
      "overflow_x": null,
      "overflow_y": null,
      "padding": null,
      "right": null,
      "top": null,
      "visibility": null,
      "width": null
     }
    },
    "40c4f549b189453ca911b310d44a925c": {
     "model_module": "@jupyter-widgets/controls",
     "model_module_version": "1.5.0",
     "model_name": "HTMLModel",
     "state": {
      "_dom_classes": [],
      "_model_module": "@jupyter-widgets/controls",
      "_model_module_version": "1.5.0",
      "_model_name": "HTMLModel",
      "_view_count": null,
      "_view_module": "@jupyter-widgets/controls",
      "_view_module_version": "1.5.0",
      "_view_name": "HTMLView",
      "description": "",
      "description_tooltip": null,
      "layout": "IPY_MODEL_d1496afc72ed4fd9b5daca3a08018115",
      "placeholder": "​",
      "style": "IPY_MODEL_72a8a571da44418b92b4238649899123",
      "value": "Epoch 1/2 Training: 100%"
     }
    },
    "40eb0dcc8f604d0a9dccd5dcf1d9c89a": {
     "model_module": "@jupyter-widgets/base",
     "model_module_version": "1.2.0",
     "model_name": "LayoutModel",
     "state": {
      "_model_module": "@jupyter-widgets/base",
      "_model_module_version": "1.2.0",
      "_model_name": "LayoutModel",
      "_view_count": null,
      "_view_module": "@jupyter-widgets/base",
      "_view_module_version": "1.2.0",
      "_view_name": "LayoutView",
      "align_content": null,
      "align_items": null,
      "align_self": null,
      "border": null,
      "bottom": null,
      "display": null,
      "flex": null,
      "flex_flow": null,
      "grid_area": null,
      "grid_auto_columns": null,
      "grid_auto_flow": null,
      "grid_auto_rows": null,
      "grid_column": null,
      "grid_gap": null,
      "grid_row": null,
      "grid_template_areas": null,
      "grid_template_columns": null,
      "grid_template_rows": null,
      "height": null,
      "justify_content": null,
      "justify_items": null,
      "left": null,
      "margin": null,
      "max_height": null,
      "max_width": null,
      "min_height": null,
      "min_width": null,
      "object_fit": null,
      "object_position": null,
      "order": null,
      "overflow": null,
      "overflow_x": null,
      "overflow_y": null,
      "padding": null,
      "right": null,
      "top": null,
      "visibility": null,
      "width": null
     }
    },
    "420bf34926ce4574a12963f3276de466": {
     "model_module": "@jupyter-widgets/base",
     "model_module_version": "1.2.0",
     "model_name": "LayoutModel",
     "state": {
      "_model_module": "@jupyter-widgets/base",
      "_model_module_version": "1.2.0",
      "_model_name": "LayoutModel",
      "_view_count": null,
      "_view_module": "@jupyter-widgets/base",
      "_view_module_version": "1.2.0",
      "_view_name": "LayoutView",
      "align_content": null,
      "align_items": null,
      "align_self": null,
      "border": null,
      "bottom": null,
      "display": null,
      "flex": null,
      "flex_flow": null,
      "grid_area": null,
      "grid_auto_columns": null,
      "grid_auto_flow": null,
      "grid_auto_rows": null,
      "grid_column": null,
      "grid_gap": null,
      "grid_row": null,
      "grid_template_areas": null,
      "grid_template_columns": null,
      "grid_template_rows": null,
      "height": null,
      "justify_content": null,
      "justify_items": null,
      "left": null,
      "margin": null,
      "max_height": null,
      "max_width": null,
      "min_height": null,
      "min_width": null,
      "object_fit": null,
      "object_position": null,
      "order": null,
      "overflow": null,
      "overflow_x": null,
      "overflow_y": null,
      "padding": null,
      "right": null,
      "top": null,
      "visibility": null,
      "width": null
     }
    },
    "448075001fcb4fee92da8d15dec1310e": {
     "model_module": "@jupyter-widgets/controls",
     "model_module_version": "1.5.0",
     "model_name": "HTMLModel",
     "state": {
      "_dom_classes": [],
      "_model_module": "@jupyter-widgets/controls",
      "_model_module_version": "1.5.0",
      "_model_name": "HTMLModel",
      "_view_count": null,
      "_view_module": "@jupyter-widgets/controls",
      "_view_module_version": "1.5.0",
      "_view_name": "HTMLView",
      "description": "",
      "description_tooltip": null,
      "layout": "IPY_MODEL_e5178d7bd2144346ae4ebe19e468e529",
      "placeholder": "​",
      "style": "IPY_MODEL_02db19f713474a5d8dd832b81457ca72",
      "value": "Epoch 2/2 Training: 100%"
     }
    },
    "45bc2486a84a4afd8aa887861d84c831": {
     "model_module": "@jupyter-widgets/controls",
     "model_module_version": "1.5.0",
     "model_name": "HTMLModel",
     "state": {
      "_dom_classes": [],
      "_model_module": "@jupyter-widgets/controls",
      "_model_module_version": "1.5.0",
      "_model_name": "HTMLModel",
      "_view_count": null,
      "_view_module": "@jupyter-widgets/controls",
      "_view_module_version": "1.5.0",
      "_view_name": "HTMLView",
      "description": "",
      "description_tooltip": null,
      "layout": "IPY_MODEL_39824a4cd0a04ab2af6d5cd7da2e1e52",
      "placeholder": "​",
      "style": "IPY_MODEL_82b5c35ada5b45be927b08cb6232186c",
      "value": "Epoch 2/2 Training: 100%"
     }
    },
    "45c5f292c4634742aebc59b592862fc8": {
     "model_module": "@jupyter-widgets/controls",
     "model_module_version": "1.5.0",
     "model_name": "ProgressStyleModel",
     "state": {
      "_model_module": "@jupyter-widgets/controls",
      "_model_module_version": "1.5.0",
      "_model_name": "ProgressStyleModel",
      "_view_count": null,
      "_view_module": "@jupyter-widgets/base",
      "_view_module_version": "1.2.0",
      "_view_name": "StyleView",
      "bar_color": null,
      "description_width": ""
     }
    },
    "47df7d5f3a2c4719ac53947f4ae77b0d": {
     "model_module": "@jupyter-widgets/controls",
     "model_module_version": "1.5.0",
     "model_name": "DescriptionStyleModel",
     "state": {
      "_model_module": "@jupyter-widgets/controls",
      "_model_module_version": "1.5.0",
      "_model_name": "DescriptionStyleModel",
      "_view_count": null,
      "_view_module": "@jupyter-widgets/base",
      "_view_module_version": "1.2.0",
      "_view_name": "StyleView",
      "description_width": ""
     }
    },
    "48e7857e8b1044b5beb735ad5b7fcdff": {
     "model_module": "@jupyter-widgets/controls",
     "model_module_version": "1.5.0",
     "model_name": "HBoxModel",
     "state": {
      "_dom_classes": [],
      "_model_module": "@jupyter-widgets/controls",
      "_model_module_version": "1.5.0",
      "_model_name": "HBoxModel",
      "_view_count": null,
      "_view_module": "@jupyter-widgets/controls",
      "_view_module_version": "1.5.0",
      "_view_name": "HBoxView",
      "box_style": "",
      "children": [
       "IPY_MODEL_9b5a981a12734cf59f15df5d01099fee",
       "IPY_MODEL_acd5e361bfe74b7e9068db559acfedc8",
       "IPY_MODEL_f11a2a403a094dadaae52d0bdf3ccfb3"
      ],
      "layout": "IPY_MODEL_9f51043035894e12a296912304368cbb"
     }
    },
    "492986eaed7443f4830a2c15b822473e": {
     "model_module": "@jupyter-widgets/controls",
     "model_module_version": "1.5.0",
     "model_name": "HTMLModel",
     "state": {
      "_dom_classes": [],
      "_model_module": "@jupyter-widgets/controls",
      "_model_module_version": "1.5.0",
      "_model_name": "HTMLModel",
      "_view_count": null,
      "_view_module": "@jupyter-widgets/controls",
      "_view_module_version": "1.5.0",
      "_view_name": "HTMLView",
      "description": "",
      "description_tooltip": null,
      "layout": "IPY_MODEL_40eb0dcc8f604d0a9dccd5dcf1d9c89a",
      "placeholder": "​",
      "style": "IPY_MODEL_59f0a9306ea34c20b0ffd247f3b28385",
      "value": " 1/1 [00:00&lt;00:00,  3.65it/s]"
     }
    },
    "4c8a4a6c8ee64313acb5cc493afbe3fe": {
     "model_module": "@jupyter-widgets/controls",
     "model_module_version": "1.5.0",
     "model_name": "FloatProgressModel",
     "state": {
      "_dom_classes": [],
      "_model_module": "@jupyter-widgets/controls",
      "_model_module_version": "1.5.0",
      "_model_name": "FloatProgressModel",
      "_view_count": null,
      "_view_module": "@jupyter-widgets/controls",
      "_view_module_version": "1.5.0",
      "_view_name": "ProgressView",
      "bar_style": "success",
      "description": "",
      "description_tooltip": null,
      "layout": "IPY_MODEL_76ceaf0cd50146979c9eee627efeb07b",
      "max": 1,
      "min": 0,
      "orientation": "horizontal",
      "style": "IPY_MODEL_b77d5dbcd63742fa9e44b1609c80dcb2",
      "value": 1
     }
    },
    "539ca552762945d9a2a52bc788f2413b": {
     "model_module": "@jupyter-widgets/base",
     "model_module_version": "1.2.0",
     "model_name": "LayoutModel",
     "state": {
      "_model_module": "@jupyter-widgets/base",
      "_model_module_version": "1.2.0",
      "_model_name": "LayoutModel",
      "_view_count": null,
      "_view_module": "@jupyter-widgets/base",
      "_view_module_version": "1.2.0",
      "_view_name": "LayoutView",
      "align_content": null,
      "align_items": null,
      "align_self": null,
      "border": null,
      "bottom": null,
      "display": null,
      "flex": null,
      "flex_flow": null,
      "grid_area": null,
      "grid_auto_columns": null,
      "grid_auto_flow": null,
      "grid_auto_rows": null,
      "grid_column": null,
      "grid_gap": null,
      "grid_row": null,
      "grid_template_areas": null,
      "grid_template_columns": null,
      "grid_template_rows": null,
      "height": null,
      "justify_content": null,
      "justify_items": null,
      "left": null,
      "margin": null,
      "max_height": null,
      "max_width": null,
      "min_height": null,
      "min_width": null,
      "object_fit": null,
      "object_position": null,
      "order": null,
      "overflow": null,
      "overflow_x": null,
      "overflow_y": null,
      "padding": null,
      "right": null,
      "top": null,
      "visibility": null,
      "width": null
     }
    },
    "57832d7cad4947f6b5b1ca5d125c7f04": {
     "model_module": "@jupyter-widgets/controls",
     "model_module_version": "1.5.0",
     "model_name": "FloatProgressModel",
     "state": {
      "_dom_classes": [],
      "_model_module": "@jupyter-widgets/controls",
      "_model_module_version": "1.5.0",
      "_model_name": "FloatProgressModel",
      "_view_count": null,
      "_view_module": "@jupyter-widgets/controls",
      "_view_module_version": "1.5.0",
      "_view_name": "ProgressView",
      "bar_style": "success",
      "description": "",
      "description_tooltip": null,
      "layout": "IPY_MODEL_76b01e5c34d74d15ae2d38fd8c95082f",
      "max": 1,
      "min": 0,
      "orientation": "horizontal",
      "style": "IPY_MODEL_f9847959d39c457ba713577b37bb107d",
      "value": 1
     }
    },
    "597023c506134d659f84d3bb0b7f720d": {
     "model_module": "@jupyter-widgets/base",
     "model_module_version": "1.2.0",
     "model_name": "LayoutModel",
     "state": {
      "_model_module": "@jupyter-widgets/base",
      "_model_module_version": "1.2.0",
      "_model_name": "LayoutModel",
      "_view_count": null,
      "_view_module": "@jupyter-widgets/base",
      "_view_module_version": "1.2.0",
      "_view_name": "LayoutView",
      "align_content": null,
      "align_items": null,
      "align_self": null,
      "border": null,
      "bottom": null,
      "display": null,
      "flex": null,
      "flex_flow": null,
      "grid_area": null,
      "grid_auto_columns": null,
      "grid_auto_flow": null,
      "grid_auto_rows": null,
      "grid_column": null,
      "grid_gap": null,
      "grid_row": null,
      "grid_template_areas": null,
      "grid_template_columns": null,
      "grid_template_rows": null,
      "height": null,
      "justify_content": null,
      "justify_items": null,
      "left": null,
      "margin": null,
      "max_height": null,
      "max_width": null,
      "min_height": null,
      "min_width": null,
      "object_fit": null,
      "object_position": null,
      "order": null,
      "overflow": null,
      "overflow_x": null,
      "overflow_y": null,
      "padding": null,
      "right": null,
      "top": null,
      "visibility": null,
      "width": null
     }
    },
    "59c8c6d34e384ff091e90ccc2bab016c": {
     "model_module": "@jupyter-widgets/controls",
     "model_module_version": "1.5.0",
     "model_name": "FloatProgressModel",
     "state": {
      "_dom_classes": [],
      "_model_module": "@jupyter-widgets/controls",
      "_model_module_version": "1.5.0",
      "_model_name": "FloatProgressModel",
      "_view_count": null,
      "_view_module": "@jupyter-widgets/controls",
      "_view_module_version": "1.5.0",
      "_view_name": "ProgressView",
      "bar_style": "success",
      "description": "",
      "description_tooltip": null,
      "layout": "IPY_MODEL_bf9c0f4eaa874017a4db0e4281afb70e",
      "max": 1,
      "min": 0,
      "orientation": "horizontal",
      "style": "IPY_MODEL_9ef15b4fc4804e4db0061615d37d69cf",
      "value": 1
     }
    },
    "59eead3faadc4dc0a2d294b7b09e15d5": {
     "model_module": "@jupyter-widgets/controls",
     "model_module_version": "1.5.0",
     "model_name": "HTMLModel",
     "state": {
      "_dom_classes": [],
      "_model_module": "@jupyter-widgets/controls",
      "_model_module_version": "1.5.0",
      "_model_name": "HTMLModel",
      "_view_count": null,
      "_view_module": "@jupyter-widgets/controls",
      "_view_module_version": "1.5.0",
      "_view_name": "HTMLView",
      "description": "",
      "description_tooltip": null,
      "layout": "IPY_MODEL_ac7122052d164ba993414c71d3d22cdd",
      "placeholder": "​",
      "style": "IPY_MODEL_8b4941f1f16f4d67b059cbfbe7d3fdd0",
      "value": " 1/1 [00:00&lt;00:00,  3.58it/s]"
     }
    },
    "59f0a9306ea34c20b0ffd247f3b28385": {
     "model_module": "@jupyter-widgets/controls",
     "model_module_version": "1.5.0",
     "model_name": "DescriptionStyleModel",
     "state": {
      "_model_module": "@jupyter-widgets/controls",
      "_model_module_version": "1.5.0",
      "_model_name": "DescriptionStyleModel",
      "_view_count": null,
      "_view_module": "@jupyter-widgets/base",
      "_view_module_version": "1.2.0",
      "_view_name": "StyleView",
      "description_width": ""
     }
    },
    "5dd260a674a04bf4a665f98efb02b263": {
     "model_module": "@jupyter-widgets/base",
     "model_module_version": "1.2.0",
     "model_name": "LayoutModel",
     "state": {
      "_model_module": "@jupyter-widgets/base",
      "_model_module_version": "1.2.0",
      "_model_name": "LayoutModel",
      "_view_count": null,
      "_view_module": "@jupyter-widgets/base",
      "_view_module_version": "1.2.0",
      "_view_name": "LayoutView",
      "align_content": null,
      "align_items": null,
      "align_self": null,
      "border": null,
      "bottom": null,
      "display": null,
      "flex": null,
      "flex_flow": null,
      "grid_area": null,
      "grid_auto_columns": null,
      "grid_auto_flow": null,
      "grid_auto_rows": null,
      "grid_column": null,
      "grid_gap": null,
      "grid_row": null,
      "grid_template_areas": null,
      "grid_template_columns": null,
      "grid_template_rows": null,
      "height": null,
      "justify_content": null,
      "justify_items": null,
      "left": null,
      "margin": null,
      "max_height": null,
      "max_width": null,
      "min_height": null,
      "min_width": null,
      "object_fit": null,
      "object_position": null,
      "order": null,
      "overflow": null,
      "overflow_x": null,
      "overflow_y": null,
      "padding": null,
      "right": null,
      "top": null,
      "visibility": null,
      "width": null
     }
    },
    "60d12e8c14144ab79e2a64888bd4823a": {
     "model_module": "@jupyter-widgets/controls",
     "model_module_version": "1.5.0",
     "model_name": "HTMLModel",
     "state": {
      "_dom_classes": [],
      "_model_module": "@jupyter-widgets/controls",
      "_model_module_version": "1.5.0",
      "_model_name": "HTMLModel",
      "_view_count": null,
      "_view_module": "@jupyter-widgets/controls",
      "_view_module_version": "1.5.0",
      "_view_name": "HTMLView",
      "description": "",
      "description_tooltip": null,
      "layout": "IPY_MODEL_beda4d516c314ff9850a86ee2e19838a",
      "placeholder": "​",
      "style": "IPY_MODEL_998e21a9a20949668be1ba4081b823fa",
      "value": " 1/1 [00:00&lt;00:00,  3.45it/s]"
     }
    },
    "65b5db598b054d529b69261efdd4c42e": {
     "model_module": "@jupyter-widgets/controls",
     "model_module_version": "1.5.0",
     "model_name": "FloatProgressModel",
     "state": {
      "_dom_classes": [],
      "_model_module": "@jupyter-widgets/controls",
      "_model_module_version": "1.5.0",
      "_model_name": "FloatProgressModel",
      "_view_count": null,
      "_view_module": "@jupyter-widgets/controls",
      "_view_module_version": "1.5.0",
      "_view_name": "ProgressView",
      "bar_style": "success",
      "description": "",
      "description_tooltip": null,
      "layout": "IPY_MODEL_72769e2281444b4484e45ada8b5fa51b",
      "max": 1,
      "min": 0,
      "orientation": "horizontal",
      "style": "IPY_MODEL_bc8e52ff0e304a0696f97a3e6eb36bfc",
      "value": 1
     }
    },
    "69fbd68ca1ac43f0806e42ac1362f6ad": {
     "model_module": "@jupyter-widgets/base",
     "model_module_version": "1.2.0",
     "model_name": "LayoutModel",
     "state": {
      "_model_module": "@jupyter-widgets/base",
      "_model_module_version": "1.2.0",
      "_model_name": "LayoutModel",
      "_view_count": null,
      "_view_module": "@jupyter-widgets/base",
      "_view_module_version": "1.2.0",
      "_view_name": "LayoutView",
      "align_content": null,
      "align_items": null,
      "align_self": null,
      "border": null,
      "bottom": null,
      "display": null,
      "flex": null,
      "flex_flow": null,
      "grid_area": null,
      "grid_auto_columns": null,
      "grid_auto_flow": null,
      "grid_auto_rows": null,
      "grid_column": null,
      "grid_gap": null,
      "grid_row": null,
      "grid_template_areas": null,
      "grid_template_columns": null,
      "grid_template_rows": null,
      "height": null,
      "justify_content": null,
      "justify_items": null,
      "left": null,
      "margin": null,
      "max_height": null,
      "max_width": null,
      "min_height": null,
      "min_width": null,
      "object_fit": null,
      "object_position": null,
      "order": null,
      "overflow": null,
      "overflow_x": null,
      "overflow_y": null,
      "padding": null,
      "right": null,
      "top": null,
      "visibility": null,
      "width": null
     }
    },
    "72769e2281444b4484e45ada8b5fa51b": {
     "model_module": "@jupyter-widgets/base",
     "model_module_version": "1.2.0",
     "model_name": "LayoutModel",
     "state": {
      "_model_module": "@jupyter-widgets/base",
      "_model_module_version": "1.2.0",
      "_model_name": "LayoutModel",
      "_view_count": null,
      "_view_module": "@jupyter-widgets/base",
      "_view_module_version": "1.2.0",
      "_view_name": "LayoutView",
      "align_content": null,
      "align_items": null,
      "align_self": null,
      "border": null,
      "bottom": null,
      "display": null,
      "flex": null,
      "flex_flow": null,
      "grid_area": null,
      "grid_auto_columns": null,
      "grid_auto_flow": null,
      "grid_auto_rows": null,
      "grid_column": null,
      "grid_gap": null,
      "grid_row": null,
      "grid_template_areas": null,
      "grid_template_columns": null,
      "grid_template_rows": null,
      "height": null,
      "justify_content": null,
      "justify_items": null,
      "left": null,
      "margin": null,
      "max_height": null,
      "max_width": null,
      "min_height": null,
      "min_width": null,
      "object_fit": null,
      "object_position": null,
      "order": null,
      "overflow": null,
      "overflow_x": null,
      "overflow_y": null,
      "padding": null,
      "right": null,
      "top": null,
      "visibility": null,
      "width": null
     }
    },
    "7293fa1be2804cd389ba588a94733e01": {
     "model_module": "@jupyter-widgets/controls",
     "model_module_version": "1.5.0",
     "model_name": "DescriptionStyleModel",
     "state": {
      "_model_module": "@jupyter-widgets/controls",
      "_model_module_version": "1.5.0",
      "_model_name": "DescriptionStyleModel",
      "_view_count": null,
      "_view_module": "@jupyter-widgets/base",
      "_view_module_version": "1.2.0",
      "_view_name": "StyleView",
      "description_width": ""
     }
    },
    "72a8a571da44418b92b4238649899123": {
     "model_module": "@jupyter-widgets/controls",
     "model_module_version": "1.5.0",
     "model_name": "DescriptionStyleModel",
     "state": {
      "_model_module": "@jupyter-widgets/controls",
      "_model_module_version": "1.5.0",
      "_model_name": "DescriptionStyleModel",
      "_view_count": null,
      "_view_module": "@jupyter-widgets/base",
      "_view_module_version": "1.2.0",
      "_view_name": "StyleView",
      "description_width": ""
     }
    },
    "76b01e5c34d74d15ae2d38fd8c95082f": {
     "model_module": "@jupyter-widgets/base",
     "model_module_version": "1.2.0",
     "model_name": "LayoutModel",
     "state": {
      "_model_module": "@jupyter-widgets/base",
      "_model_module_version": "1.2.0",
      "_model_name": "LayoutModel",
      "_view_count": null,
      "_view_module": "@jupyter-widgets/base",
      "_view_module_version": "1.2.0",
      "_view_name": "LayoutView",
      "align_content": null,
      "align_items": null,
      "align_self": null,
      "border": null,
      "bottom": null,
      "display": null,
      "flex": null,
      "flex_flow": null,
      "grid_area": null,
      "grid_auto_columns": null,
      "grid_auto_flow": null,
      "grid_auto_rows": null,
      "grid_column": null,
      "grid_gap": null,
      "grid_row": null,
      "grid_template_areas": null,
      "grid_template_columns": null,
      "grid_template_rows": null,
      "height": null,
      "justify_content": null,
      "justify_items": null,
      "left": null,
      "margin": null,
      "max_height": null,
      "max_width": null,
      "min_height": null,
      "min_width": null,
      "object_fit": null,
      "object_position": null,
      "order": null,
      "overflow": null,
      "overflow_x": null,
      "overflow_y": null,
      "padding": null,
      "right": null,
      "top": null,
      "visibility": null,
      "width": null
     }
    },
    "76ceaf0cd50146979c9eee627efeb07b": {
     "model_module": "@jupyter-widgets/base",
     "model_module_version": "1.2.0",
     "model_name": "LayoutModel",
     "state": {
      "_model_module": "@jupyter-widgets/base",
      "_model_module_version": "1.2.0",
      "_model_name": "LayoutModel",
      "_view_count": null,
      "_view_module": "@jupyter-widgets/base",
      "_view_module_version": "1.2.0",
      "_view_name": "LayoutView",
      "align_content": null,
      "align_items": null,
      "align_self": null,
      "border": null,
      "bottom": null,
      "display": null,
      "flex": null,
      "flex_flow": null,
      "grid_area": null,
      "grid_auto_columns": null,
      "grid_auto_flow": null,
      "grid_auto_rows": null,
      "grid_column": null,
      "grid_gap": null,
      "grid_row": null,
      "grid_template_areas": null,
      "grid_template_columns": null,
      "grid_template_rows": null,
      "height": null,
      "justify_content": null,
      "justify_items": null,
      "left": null,
      "margin": null,
      "max_height": null,
      "max_width": null,
      "min_height": null,
      "min_width": null,
      "object_fit": null,
      "object_position": null,
      "order": null,
      "overflow": null,
      "overflow_x": null,
      "overflow_y": null,
      "padding": null,
      "right": null,
      "top": null,
      "visibility": null,
      "width": null
     }
    },
    "7bd6db1a5ce64e56a7d6612ce378a498": {
     "model_module": "@jupyter-widgets/controls",
     "model_module_version": "1.5.0",
     "model_name": "DescriptionStyleModel",
     "state": {
      "_model_module": "@jupyter-widgets/controls",
      "_model_module_version": "1.5.0",
      "_model_name": "DescriptionStyleModel",
      "_view_count": null,
      "_view_module": "@jupyter-widgets/base",
      "_view_module_version": "1.2.0",
      "_view_name": "StyleView",
      "description_width": ""
     }
    },
    "82b5c35ada5b45be927b08cb6232186c": {
     "model_module": "@jupyter-widgets/controls",
     "model_module_version": "1.5.0",
     "model_name": "DescriptionStyleModel",
     "state": {
      "_model_module": "@jupyter-widgets/controls",
      "_model_module_version": "1.5.0",
      "_model_name": "DescriptionStyleModel",
      "_view_count": null,
      "_view_module": "@jupyter-widgets/base",
      "_view_module_version": "1.2.0",
      "_view_name": "StyleView",
      "description_width": ""
     }
    },
    "8482ff7377884f6094a8df6508954c39": {
     "model_module": "@jupyter-widgets/controls",
     "model_module_version": "1.5.0",
     "model_name": "HBoxModel",
     "state": {
      "_dom_classes": [],
      "_model_module": "@jupyter-widgets/controls",
      "_model_module_version": "1.5.0",
      "_model_name": "HBoxModel",
      "_view_count": null,
      "_view_module": "@jupyter-widgets/controls",
      "_view_module_version": "1.5.0",
      "_view_name": "HBoxView",
      "box_style": "",
      "children": [
       "IPY_MODEL_89baf6c3cce348e5b750d2956eb93229",
       "IPY_MODEL_c6984002a90547569c8b6dec69022ece",
       "IPY_MODEL_2fe3d4d5c91b455ea068ef5834ccdbe2"
      ],
      "layout": "IPY_MODEL_e422acc27c9944e3be8d817aa48739e4"
     }
    },
    "89baf6c3cce348e5b750d2956eb93229": {
     "model_module": "@jupyter-widgets/controls",
     "model_module_version": "1.5.0",
     "model_name": "HTMLModel",
     "state": {
      "_dom_classes": [],
      "_model_module": "@jupyter-widgets/controls",
      "_model_module_version": "1.5.0",
      "_model_name": "HTMLModel",
      "_view_count": null,
      "_view_module": "@jupyter-widgets/controls",
      "_view_module_version": "1.5.0",
      "_view_name": "HTMLView",
      "description": "",
      "description_tooltip": null,
      "layout": "IPY_MODEL_37b390e656eb454d917d2700810504c8",
      "placeholder": "​",
      "style": "IPY_MODEL_f112643735194995a5ce0fa0e4001f1b",
      "value": "Epoch 1/2 Training: 100%"
     }
    },
    "8b4941f1f16f4d67b059cbfbe7d3fdd0": {
     "model_module": "@jupyter-widgets/controls",
     "model_module_version": "1.5.0",
     "model_name": "DescriptionStyleModel",
     "state": {
      "_model_module": "@jupyter-widgets/controls",
      "_model_module_version": "1.5.0",
      "_model_name": "DescriptionStyleModel",
      "_view_count": null,
      "_view_module": "@jupyter-widgets/base",
      "_view_module_version": "1.2.0",
      "_view_name": "StyleView",
      "description_width": ""
     }
    },
    "93836ba79eb4464895e017ade8f6158b": {
     "model_module": "@jupyter-widgets/base",
     "model_module_version": "1.2.0",
     "model_name": "LayoutModel",
     "state": {
      "_model_module": "@jupyter-widgets/base",
      "_model_module_version": "1.2.0",
      "_model_name": "LayoutModel",
      "_view_count": null,
      "_view_module": "@jupyter-widgets/base",
      "_view_module_version": "1.2.0",
      "_view_name": "LayoutView",
      "align_content": null,
      "align_items": null,
      "align_self": null,
      "border": null,
      "bottom": null,
      "display": null,
      "flex": null,
      "flex_flow": null,
      "grid_area": null,
      "grid_auto_columns": null,
      "grid_auto_flow": null,
      "grid_auto_rows": null,
      "grid_column": null,
      "grid_gap": null,
      "grid_row": null,
      "grid_template_areas": null,
      "grid_template_columns": null,
      "grid_template_rows": null,
      "height": null,
      "justify_content": null,
      "justify_items": null,
      "left": null,
      "margin": null,
      "max_height": null,
      "max_width": null,
      "min_height": null,
      "min_width": null,
      "object_fit": null,
      "object_position": null,
      "order": null,
      "overflow": null,
      "overflow_x": null,
      "overflow_y": null,
      "padding": null,
      "right": null,
      "top": null,
      "visibility": null,
      "width": null
     }
    },
    "9793cae146b9438aa26ffdfd90f68dcd": {
     "model_module": "@jupyter-widgets/base",
     "model_module_version": "1.2.0",
     "model_name": "LayoutModel",
     "state": {
      "_model_module": "@jupyter-widgets/base",
      "_model_module_version": "1.2.0",
      "_model_name": "LayoutModel",
      "_view_count": null,
      "_view_module": "@jupyter-widgets/base",
      "_view_module_version": "1.2.0",
      "_view_name": "LayoutView",
      "align_content": null,
      "align_items": null,
      "align_self": null,
      "border": null,
      "bottom": null,
      "display": null,
      "flex": null,
      "flex_flow": null,
      "grid_area": null,
      "grid_auto_columns": null,
      "grid_auto_flow": null,
      "grid_auto_rows": null,
      "grid_column": null,
      "grid_gap": null,
      "grid_row": null,
      "grid_template_areas": null,
      "grid_template_columns": null,
      "grid_template_rows": null,
      "height": null,
      "justify_content": null,
      "justify_items": null,
      "left": null,
      "margin": null,
      "max_height": null,
      "max_width": null,
      "min_height": null,
      "min_width": null,
      "object_fit": null,
      "object_position": null,
      "order": null,
      "overflow": null,
      "overflow_x": null,
      "overflow_y": null,
      "padding": null,
      "right": null,
      "top": null,
      "visibility": null,
      "width": null
     }
    },
    "98504cb6aa65433d8039bfe12fcef68a": {
     "model_module": "@jupyter-widgets/controls",
     "model_module_version": "1.5.0",
     "model_name": "ProgressStyleModel",
     "state": {
      "_model_module": "@jupyter-widgets/controls",
      "_model_module_version": "1.5.0",
      "_model_name": "ProgressStyleModel",
      "_view_count": null,
      "_view_module": "@jupyter-widgets/base",
      "_view_module_version": "1.2.0",
      "_view_name": "StyleView",
      "bar_color": null,
      "description_width": ""
     }
    },
    "998e21a9a20949668be1ba4081b823fa": {
     "model_module": "@jupyter-widgets/controls",
     "model_module_version": "1.5.0",
     "model_name": "DescriptionStyleModel",
     "state": {
      "_model_module": "@jupyter-widgets/controls",
      "_model_module_version": "1.5.0",
      "_model_name": "DescriptionStyleModel",
      "_view_count": null,
      "_view_module": "@jupyter-widgets/base",
      "_view_module_version": "1.2.0",
      "_view_name": "StyleView",
      "description_width": ""
     }
    },
    "9b5a981a12734cf59f15df5d01099fee": {
     "model_module": "@jupyter-widgets/controls",
     "model_module_version": "1.5.0",
     "model_name": "HTMLModel",
     "state": {
      "_dom_classes": [],
      "_model_module": "@jupyter-widgets/controls",
      "_model_module_version": "1.5.0",
      "_model_name": "HTMLModel",
      "_view_count": null,
      "_view_module": "@jupyter-widgets/controls",
      "_view_module_version": "1.5.0",
      "_view_name": "HTMLView",
      "description": "",
      "description_tooltip": null,
      "layout": "IPY_MODEL_ef3d4b4790014816a0bf50b2a8c7b5f9",
      "placeholder": "​",
      "style": "IPY_MODEL_7bd6db1a5ce64e56a7d6612ce378a498",
      "value": "Evaluating: 100%"
     }
    },
    "9c853aa85e65400d9dc17ec680fd9750": {
     "model_module": "@jupyter-widgets/controls",
     "model_module_version": "1.5.0",
     "model_name": "ProgressStyleModel",
     "state": {
      "_model_module": "@jupyter-widgets/controls",
      "_model_module_version": "1.5.0",
      "_model_name": "ProgressStyleModel",
      "_view_count": null,
      "_view_module": "@jupyter-widgets/base",
      "_view_module_version": "1.2.0",
      "_view_name": "StyleView",
      "bar_color": null,
      "description_width": ""
     }
    },
    "9dd3e910faed4492a174006a2c3b0a29": {
     "model_module": "@jupyter-widgets/base",
     "model_module_version": "1.2.0",
     "model_name": "LayoutModel",
     "state": {
      "_model_module": "@jupyter-widgets/base",
      "_model_module_version": "1.2.0",
      "_model_name": "LayoutModel",
      "_view_count": null,
      "_view_module": "@jupyter-widgets/base",
      "_view_module_version": "1.2.0",
      "_view_name": "LayoutView",
      "align_content": null,
      "align_items": null,
      "align_self": null,
      "border": null,
      "bottom": null,
      "display": null,
      "flex": null,
      "flex_flow": null,
      "grid_area": null,
      "grid_auto_columns": null,
      "grid_auto_flow": null,
      "grid_auto_rows": null,
      "grid_column": null,
      "grid_gap": null,
      "grid_row": null,
      "grid_template_areas": null,
      "grid_template_columns": null,
      "grid_template_rows": null,
      "height": null,
      "justify_content": null,
      "justify_items": null,
      "left": null,
      "margin": null,
      "max_height": null,
      "max_width": null,
      "min_height": null,
      "min_width": null,
      "object_fit": null,
      "object_position": null,
      "order": null,
      "overflow": null,
      "overflow_x": null,
      "overflow_y": null,
      "padding": null,
      "right": null,
      "top": null,
      "visibility": null,
      "width": null
     }
    },
    "9ef15b4fc4804e4db0061615d37d69cf": {
     "model_module": "@jupyter-widgets/controls",
     "model_module_version": "1.5.0",
     "model_name": "ProgressStyleModel",
     "state": {
      "_model_module": "@jupyter-widgets/controls",
      "_model_module_version": "1.5.0",
      "_model_name": "ProgressStyleModel",
      "_view_count": null,
      "_view_module": "@jupyter-widgets/base",
      "_view_module_version": "1.2.0",
      "_view_name": "StyleView",
      "bar_color": null,
      "description_width": ""
     }
    },
    "9f51043035894e12a296912304368cbb": {
     "model_module": "@jupyter-widgets/base",
     "model_module_version": "1.2.0",
     "model_name": "LayoutModel",
     "state": {
      "_model_module": "@jupyter-widgets/base",
      "_model_module_version": "1.2.0",
      "_model_name": "LayoutModel",
      "_view_count": null,
      "_view_module": "@jupyter-widgets/base",
      "_view_module_version": "1.2.0",
      "_view_name": "LayoutView",
      "align_content": null,
      "align_items": null,
      "align_self": null,
      "border": null,
      "bottom": null,
      "display": null,
      "flex": null,
      "flex_flow": null,
      "grid_area": null,
      "grid_auto_columns": null,
      "grid_auto_flow": null,
      "grid_auto_rows": null,
      "grid_column": null,
      "grid_gap": null,
      "grid_row": null,
      "grid_template_areas": null,
      "grid_template_columns": null,
      "grid_template_rows": null,
      "height": null,
      "justify_content": null,
      "justify_items": null,
      "left": null,
      "margin": null,
      "max_height": null,
      "max_width": null,
      "min_height": null,
      "min_width": null,
      "object_fit": null,
      "object_position": null,
      "order": null,
      "overflow": null,
      "overflow_x": null,
      "overflow_y": null,
      "padding": null,
      "right": null,
      "top": null,
      "visibility": null,
      "width": null
     }
    },
    "9f91118678264e8d933f764caecc58ef": {
     "model_module": "@jupyter-widgets/controls",
     "model_module_version": "1.5.0",
     "model_name": "HBoxModel",
     "state": {
      "_dom_classes": [],
      "_model_module": "@jupyter-widgets/controls",
      "_model_module_version": "1.5.0",
      "_model_name": "HBoxModel",
      "_view_count": null,
      "_view_module": "@jupyter-widgets/controls",
      "_view_module_version": "1.5.0",
      "_view_name": "HBoxView",
      "box_style": "",
      "children": [
       "IPY_MODEL_45bc2486a84a4afd8aa887861d84c831",
       "IPY_MODEL_4c8a4a6c8ee64313acb5cc493afbe3fe",
       "IPY_MODEL_60d12e8c14144ab79e2a64888bd4823a"
      ],
      "layout": "IPY_MODEL_f16268b6f63840d19aca6ad7b8ac5f59"
     }
    },
    "a027d26a47c6469b9e60dc0963072041": {
     "model_module": "@jupyter-widgets/controls",
     "model_module_version": "1.5.0",
     "model_name": "FloatProgressModel",
     "state": {
      "_dom_classes": [],
      "_model_module": "@jupyter-widgets/controls",
      "_model_module_version": "1.5.0",
      "_model_name": "FloatProgressModel",
      "_view_count": null,
      "_view_module": "@jupyter-widgets/controls",
      "_view_module_version": "1.5.0",
      "_view_name": "ProgressView",
      "bar_style": "success",
      "description": "",
      "description_tooltip": null,
      "layout": "IPY_MODEL_93836ba79eb4464895e017ade8f6158b",
      "max": 1,
      "min": 0,
      "orientation": "horizontal",
      "style": "IPY_MODEL_f480951b9329401daf10f6440270435c",
      "value": 1
     }
    },
    "a42d99d4d0c84e91a08757240cbccb10": {
     "model_module": "@jupyter-widgets/base",
     "model_module_version": "1.2.0",
     "model_name": "LayoutModel",
     "state": {
      "_model_module": "@jupyter-widgets/base",
      "_model_module_version": "1.2.0",
      "_model_name": "LayoutModel",
      "_view_count": null,
      "_view_module": "@jupyter-widgets/base",
      "_view_module_version": "1.2.0",
      "_view_name": "LayoutView",
      "align_content": null,
      "align_items": null,
      "align_self": null,
      "border": null,
      "bottom": null,
      "display": null,
      "flex": null,
      "flex_flow": null,
      "grid_area": null,
      "grid_auto_columns": null,
      "grid_auto_flow": null,
      "grid_auto_rows": null,
      "grid_column": null,
      "grid_gap": null,
      "grid_row": null,
      "grid_template_areas": null,
      "grid_template_columns": null,
      "grid_template_rows": null,
      "height": null,
      "justify_content": null,
      "justify_items": null,
      "left": null,
      "margin": null,
      "max_height": null,
      "max_width": null,
      "min_height": null,
      "min_width": null,
      "object_fit": null,
      "object_position": null,
      "order": null,
      "overflow": null,
      "overflow_x": null,
      "overflow_y": null,
      "padding": null,
      "right": null,
      "top": null,
      "visibility": null,
      "width": null
     }
    },
    "a6d93aa15bb148c2885559a31b0ce3ff": {
     "model_module": "@jupyter-widgets/base",
     "model_module_version": "1.2.0",
     "model_name": "LayoutModel",
     "state": {
      "_model_module": "@jupyter-widgets/base",
      "_model_module_version": "1.2.0",
      "_model_name": "LayoutModel",
      "_view_count": null,
      "_view_module": "@jupyter-widgets/base",
      "_view_module_version": "1.2.0",
      "_view_name": "LayoutView",
      "align_content": null,
      "align_items": null,
      "align_self": null,
      "border": null,
      "bottom": null,
      "display": null,
      "flex": null,
      "flex_flow": null,
      "grid_area": null,
      "grid_auto_columns": null,
      "grid_auto_flow": null,
      "grid_auto_rows": null,
      "grid_column": null,
      "grid_gap": null,
      "grid_row": null,
      "grid_template_areas": null,
      "grid_template_columns": null,
      "grid_template_rows": null,
      "height": null,
      "justify_content": null,
      "justify_items": null,
      "left": null,
      "margin": null,
      "max_height": null,
      "max_width": null,
      "min_height": null,
      "min_width": null,
      "object_fit": null,
      "object_position": null,
      "order": null,
      "overflow": null,
      "overflow_x": null,
      "overflow_y": null,
      "padding": null,
      "right": null,
      "top": null,
      "visibility": null,
      "width": null
     }
    },
    "a935ad13fcab461f9d60777561e72da7": {
     "model_module": "@jupyter-widgets/controls",
     "model_module_version": "1.5.0",
     "model_name": "HBoxModel",
     "state": {
      "_dom_classes": [],
      "_model_module": "@jupyter-widgets/controls",
      "_model_module_version": "1.5.0",
      "_model_name": "HBoxModel",
      "_view_count": null,
      "_view_module": "@jupyter-widgets/controls",
      "_view_module_version": "1.5.0",
      "_view_name": "HBoxView",
      "box_style": "",
      "children": [
       "IPY_MODEL_221087b552044b0eaf42d0611249e81f",
       "IPY_MODEL_c49b6fa0801b4ac5a4a75b5b495bede4",
       "IPY_MODEL_492986eaed7443f4830a2c15b822473e"
      ],
      "layout": "IPY_MODEL_e03c88e7fd7b4a9eadea5bc2d509d688"
     }
    },
    "abb31f5b75a9450eb6aaeaed82ccb881": {
     "model_module": "@jupyter-widgets/controls",
     "model_module_version": "1.5.0",
     "model_name": "DescriptionStyleModel",
     "state": {
      "_model_module": "@jupyter-widgets/controls",
      "_model_module_version": "1.5.0",
      "_model_name": "DescriptionStyleModel",
      "_view_count": null,
      "_view_module": "@jupyter-widgets/base",
      "_view_module_version": "1.2.0",
      "_view_name": "StyleView",
      "description_width": ""
     }
    },
    "ac7122052d164ba993414c71d3d22cdd": {
     "model_module": "@jupyter-widgets/base",
     "model_module_version": "1.2.0",
     "model_name": "LayoutModel",
     "state": {
      "_model_module": "@jupyter-widgets/base",
      "_model_module_version": "1.2.0",
      "_model_name": "LayoutModel",
      "_view_count": null,
      "_view_module": "@jupyter-widgets/base",
      "_view_module_version": "1.2.0",
      "_view_name": "LayoutView",
      "align_content": null,
      "align_items": null,
      "align_self": null,
      "border": null,
      "bottom": null,
      "display": null,
      "flex": null,
      "flex_flow": null,
      "grid_area": null,
      "grid_auto_columns": null,
      "grid_auto_flow": null,
      "grid_auto_rows": null,
      "grid_column": null,
      "grid_gap": null,
      "grid_row": null,
      "grid_template_areas": null,
      "grid_template_columns": null,
      "grid_template_rows": null,
      "height": null,
      "justify_content": null,
      "justify_items": null,
      "left": null,
      "margin": null,
      "max_height": null,
      "max_width": null,
      "min_height": null,
      "min_width": null,
      "object_fit": null,
      "object_position": null,
      "order": null,
      "overflow": null,
      "overflow_x": null,
      "overflow_y": null,
      "padding": null,
      "right": null,
      "top": null,
      "visibility": null,
      "width": null
     }
    },
    "acd5e361bfe74b7e9068db559acfedc8": {
     "model_module": "@jupyter-widgets/controls",
     "model_module_version": "1.5.0",
     "model_name": "FloatProgressModel",
     "state": {
      "_dom_classes": [],
      "_model_module": "@jupyter-widgets/controls",
      "_model_module_version": "1.5.0",
      "_model_name": "FloatProgressModel",
      "_view_count": null,
      "_view_module": "@jupyter-widgets/controls",
      "_view_module_version": "1.5.0",
      "_view_name": "ProgressView",
      "bar_style": "success",
      "description": "",
      "description_tooltip": null,
      "layout": "IPY_MODEL_bbac069fee0545baacf0c7f38987e784",
      "max": 1,
      "min": 0,
      "orientation": "horizontal",
      "style": "IPY_MODEL_45c5f292c4634742aebc59b592862fc8",
      "value": 1
     }
    },
    "b48f77870e84472abdfb30f9c21c4141": {
     "model_module": "@jupyter-widgets/base",
     "model_module_version": "1.2.0",
     "model_name": "LayoutModel",
     "state": {
      "_model_module": "@jupyter-widgets/base",
      "_model_module_version": "1.2.0",
      "_model_name": "LayoutModel",
      "_view_count": null,
      "_view_module": "@jupyter-widgets/base",
      "_view_module_version": "1.2.0",
      "_view_name": "LayoutView",
      "align_content": null,
      "align_items": null,
      "align_self": null,
      "border": null,
      "bottom": null,
      "display": null,
      "flex": null,
      "flex_flow": null,
      "grid_area": null,
      "grid_auto_columns": null,
      "grid_auto_flow": null,
      "grid_auto_rows": null,
      "grid_column": null,
      "grid_gap": null,
      "grid_row": null,
      "grid_template_areas": null,
      "grid_template_columns": null,
      "grid_template_rows": null,
      "height": null,
      "justify_content": null,
      "justify_items": null,
      "left": null,
      "margin": null,
      "max_height": null,
      "max_width": null,
      "min_height": null,
      "min_width": null,
      "object_fit": null,
      "object_position": null,
      "order": null,
      "overflow": null,
      "overflow_x": null,
      "overflow_y": null,
      "padding": null,
      "right": null,
      "top": null,
      "visibility": null,
      "width": null
     }
    },
    "b77d5dbcd63742fa9e44b1609c80dcb2": {
     "model_module": "@jupyter-widgets/controls",
     "model_module_version": "1.5.0",
     "model_name": "ProgressStyleModel",
     "state": {
      "_model_module": "@jupyter-widgets/controls",
      "_model_module_version": "1.5.0",
      "_model_name": "ProgressStyleModel",
      "_view_count": null,
      "_view_module": "@jupyter-widgets/base",
      "_view_module_version": "1.2.0",
      "_view_name": "StyleView",
      "bar_color": null,
      "description_width": ""
     }
    },
    "b921b09f10794eb282d5c196dfbe5c6a": {
     "model_module": "@jupyter-widgets/controls",
     "model_module_version": "1.5.0",
     "model_name": "DescriptionStyleModel",
     "state": {
      "_model_module": "@jupyter-widgets/controls",
      "_model_module_version": "1.5.0",
      "_model_name": "DescriptionStyleModel",
      "_view_count": null,
      "_view_module": "@jupyter-widgets/base",
      "_view_module_version": "1.2.0",
      "_view_name": "StyleView",
      "description_width": ""
     }
    },
    "bb8d8b3f43cc4a2db48911e4bf55a9fb": {
     "model_module": "@jupyter-widgets/controls",
     "model_module_version": "1.5.0",
     "model_name": "HTMLModel",
     "state": {
      "_dom_classes": [],
      "_model_module": "@jupyter-widgets/controls",
      "_model_module_version": "1.5.0",
      "_model_name": "HTMLModel",
      "_view_count": null,
      "_view_module": "@jupyter-widgets/controls",
      "_view_module_version": "1.5.0",
      "_view_name": "HTMLView",
      "description": "",
      "description_tooltip": null,
      "layout": "IPY_MODEL_cdc099903c1843b7bbe55f144113e128",
      "placeholder": "​",
      "style": "IPY_MODEL_7293fa1be2804cd389ba588a94733e01",
      "value": " 1/1 [00:00&lt;00:00,  2.97it/s]"
     }
    },
    "bbac069fee0545baacf0c7f38987e784": {
     "model_module": "@jupyter-widgets/base",
     "model_module_version": "1.2.0",
     "model_name": "LayoutModel",
     "state": {
      "_model_module": "@jupyter-widgets/base",
      "_model_module_version": "1.2.0",
      "_model_name": "LayoutModel",
      "_view_count": null,
      "_view_module": "@jupyter-widgets/base",
      "_view_module_version": "1.2.0",
      "_view_name": "LayoutView",
      "align_content": null,
      "align_items": null,
      "align_self": null,
      "border": null,
      "bottom": null,
      "display": null,
      "flex": null,
      "flex_flow": null,
      "grid_area": null,
      "grid_auto_columns": null,
      "grid_auto_flow": null,
      "grid_auto_rows": null,
      "grid_column": null,
      "grid_gap": null,
      "grid_row": null,
      "grid_template_areas": null,
      "grid_template_columns": null,
      "grid_template_rows": null,
      "height": null,
      "justify_content": null,
      "justify_items": null,
      "left": null,
      "margin": null,
      "max_height": null,
      "max_width": null,
      "min_height": null,
      "min_width": null,
      "object_fit": null,
      "object_position": null,
      "order": null,
      "overflow": null,
      "overflow_x": null,
      "overflow_y": null,
      "padding": null,
      "right": null,
      "top": null,
      "visibility": null,
      "width": null
     }
    },
    "bc8e52ff0e304a0696f97a3e6eb36bfc": {
     "model_module": "@jupyter-widgets/controls",
     "model_module_version": "1.5.0",
     "model_name": "ProgressStyleModel",
     "state": {
      "_model_module": "@jupyter-widgets/controls",
      "_model_module_version": "1.5.0",
      "_model_name": "ProgressStyleModel",
      "_view_count": null,
      "_view_module": "@jupyter-widgets/base",
      "_view_module_version": "1.2.0",
      "_view_name": "StyleView",
      "bar_color": null,
      "description_width": ""
     }
    },
    "beda4d516c314ff9850a86ee2e19838a": {
     "model_module": "@jupyter-widgets/base",
     "model_module_version": "1.2.0",
     "model_name": "LayoutModel",
     "state": {
      "_model_module": "@jupyter-widgets/base",
      "_model_module_version": "1.2.0",
      "_model_name": "LayoutModel",
      "_view_count": null,
      "_view_module": "@jupyter-widgets/base",
      "_view_module_version": "1.2.0",
      "_view_name": "LayoutView",
      "align_content": null,
      "align_items": null,
      "align_self": null,
      "border": null,
      "bottom": null,
      "display": null,
      "flex": null,
      "flex_flow": null,
      "grid_area": null,
      "grid_auto_columns": null,
      "grid_auto_flow": null,
      "grid_auto_rows": null,
      "grid_column": null,
      "grid_gap": null,
      "grid_row": null,
      "grid_template_areas": null,
      "grid_template_columns": null,
      "grid_template_rows": null,
      "height": null,
      "justify_content": null,
      "justify_items": null,
      "left": null,
      "margin": null,
      "max_height": null,
      "max_width": null,
      "min_height": null,
      "min_width": null,
      "object_fit": null,
      "object_position": null,
      "order": null,
      "overflow": null,
      "overflow_x": null,
      "overflow_y": null,
      "padding": null,
      "right": null,
      "top": null,
      "visibility": null,
      "width": null
     }
    },
    "bee3dc12d96743a99d962ccae68e34ec": {
     "model_module": "@jupyter-widgets/controls",
     "model_module_version": "1.5.0",
     "model_name": "HTMLModel",
     "state": {
      "_dom_classes": [],
      "_model_module": "@jupyter-widgets/controls",
      "_model_module_version": "1.5.0",
      "_model_name": "HTMLModel",
      "_view_count": null,
      "_view_module": "@jupyter-widgets/controls",
      "_view_module_version": "1.5.0",
      "_view_name": "HTMLView",
      "description": "",
      "description_tooltip": null,
      "layout": "IPY_MODEL_5dd260a674a04bf4a665f98efb02b263",
      "placeholder": "​",
      "style": "IPY_MODEL_c3b33194b6444a74b19d82b965d0fee6",
      "value": "Epoch 2/2 Training: 100%"
     }
    },
    "bf9c0f4eaa874017a4db0e4281afb70e": {
     "model_module": "@jupyter-widgets/base",
     "model_module_version": "1.2.0",
     "model_name": "LayoutModel",
     "state": {
      "_model_module": "@jupyter-widgets/base",
      "_model_module_version": "1.2.0",
      "_model_name": "LayoutModel",
      "_view_count": null,
      "_view_module": "@jupyter-widgets/base",
      "_view_module_version": "1.2.0",
      "_view_name": "LayoutView",
      "align_content": null,
      "align_items": null,
      "align_self": null,
      "border": null,
      "bottom": null,
      "display": null,
      "flex": null,
      "flex_flow": null,
      "grid_area": null,
      "grid_auto_columns": null,
      "grid_auto_flow": null,
      "grid_auto_rows": null,
      "grid_column": null,
      "grid_gap": null,
      "grid_row": null,
      "grid_template_areas": null,
      "grid_template_columns": null,
      "grid_template_rows": null,
      "height": null,
      "justify_content": null,
      "justify_items": null,
      "left": null,
      "margin": null,
      "max_height": null,
      "max_width": null,
      "min_height": null,
      "min_width": null,
      "object_fit": null,
      "object_position": null,
      "order": null,
      "overflow": null,
      "overflow_x": null,
      "overflow_y": null,
      "padding": null,
      "right": null,
      "top": null,
      "visibility": null,
      "width": null
     }
    },
    "c2853774aba84fe0954591105651c65f": {
     "model_module": "@jupyter-widgets/controls",
     "model_module_version": "1.5.0",
     "model_name": "HBoxModel",
     "state": {
      "_dom_classes": [],
      "_model_module": "@jupyter-widgets/controls",
      "_model_module_version": "1.5.0",
      "_model_name": "HBoxModel",
      "_view_count": null,
      "_view_module": "@jupyter-widgets/controls",
      "_view_module_version": "1.5.0",
      "_view_name": "HBoxView",
      "box_style": "",
      "children": [
       "IPY_MODEL_448075001fcb4fee92da8d15dec1310e",
       "IPY_MODEL_d367fbb90eb74dce95b2909a951890b6",
       "IPY_MODEL_1208a3d4bdcc4f44b9eef91d54237e57"
      ],
      "layout": "IPY_MODEL_ffe770e21c064aa7aa136f2c68a96a43"
     }
    },
    "c3b33194b6444a74b19d82b965d0fee6": {
     "model_module": "@jupyter-widgets/controls",
     "model_module_version": "1.5.0",
     "model_name": "DescriptionStyleModel",
     "state": {
      "_model_module": "@jupyter-widgets/controls",
      "_model_module_version": "1.5.0",
      "_model_name": "DescriptionStyleModel",
      "_view_count": null,
      "_view_module": "@jupyter-widgets/base",
      "_view_module_version": "1.2.0",
      "_view_name": "StyleView",
      "description_width": ""
     }
    },
    "c3bfde69388c4da3acec166302c007c8": {
     "model_module": "@jupyter-widgets/base",
     "model_module_version": "1.2.0",
     "model_name": "LayoutModel",
     "state": {
      "_model_module": "@jupyter-widgets/base",
      "_model_module_version": "1.2.0",
      "_model_name": "LayoutModel",
      "_view_count": null,
      "_view_module": "@jupyter-widgets/base",
      "_view_module_version": "1.2.0",
      "_view_name": "LayoutView",
      "align_content": null,
      "align_items": null,
      "align_self": null,
      "border": null,
      "bottom": null,
      "display": null,
      "flex": null,
      "flex_flow": null,
      "grid_area": null,
      "grid_auto_columns": null,
      "grid_auto_flow": null,
      "grid_auto_rows": null,
      "grid_column": null,
      "grid_gap": null,
      "grid_row": null,
      "grid_template_areas": null,
      "grid_template_columns": null,
      "grid_template_rows": null,
      "height": null,
      "justify_content": null,
      "justify_items": null,
      "left": null,
      "margin": null,
      "max_height": null,
      "max_width": null,
      "min_height": null,
      "min_width": null,
      "object_fit": null,
      "object_position": null,
      "order": null,
      "overflow": null,
      "overflow_x": null,
      "overflow_y": null,
      "padding": null,
      "right": null,
      "top": null,
      "visibility": null,
      "width": null
     }
    },
    "c49b6fa0801b4ac5a4a75b5b495bede4": {
     "model_module": "@jupyter-widgets/controls",
     "model_module_version": "1.5.0",
     "model_name": "FloatProgressModel",
     "state": {
      "_dom_classes": [],
      "_model_module": "@jupyter-widgets/controls",
      "_model_module_version": "1.5.0",
      "_model_name": "FloatProgressModel",
      "_view_count": null,
      "_view_module": "@jupyter-widgets/controls",
      "_view_module_version": "1.5.0",
      "_view_name": "ProgressView",
      "bar_style": "success",
      "description": "",
      "description_tooltip": null,
      "layout": "IPY_MODEL_c3bfde69388c4da3acec166302c007c8",
      "max": 1,
      "min": 0,
      "orientation": "horizontal",
      "style": "IPY_MODEL_98504cb6aa65433d8039bfe12fcef68a",
      "value": 1
     }
    },
    "c6984002a90547569c8b6dec69022ece": {
     "model_module": "@jupyter-widgets/controls",
     "model_module_version": "1.5.0",
     "model_name": "FloatProgressModel",
     "state": {
      "_dom_classes": [],
      "_model_module": "@jupyter-widgets/controls",
      "_model_module_version": "1.5.0",
      "_model_name": "FloatProgressModel",
      "_view_count": null,
      "_view_module": "@jupyter-widgets/controls",
      "_view_module_version": "1.5.0",
      "_view_name": "ProgressView",
      "bar_style": "success",
      "description": "",
      "description_tooltip": null,
      "layout": "IPY_MODEL_597023c506134d659f84d3bb0b7f720d",
      "max": 1,
      "min": 0,
      "orientation": "horizontal",
      "style": "IPY_MODEL_31df575fc5f348d0b4b9dd9a61d2c9ff",
      "value": 1
     }
    },
    "c72706a03d5c49799f6c3f0ccf72e741": {
     "model_module": "@jupyter-widgets/controls",
     "model_module_version": "1.5.0",
     "model_name": "HTMLModel",
     "state": {
      "_dom_classes": [],
      "_model_module": "@jupyter-widgets/controls",
      "_model_module_version": "1.5.0",
      "_model_name": "HTMLModel",
      "_view_count": null,
      "_view_module": "@jupyter-widgets/controls",
      "_view_module_version": "1.5.0",
      "_view_name": "HTMLView",
      "description": "",
      "description_tooltip": null,
      "layout": "IPY_MODEL_1c140fa9edff4acbb7cd40479caba343",
      "placeholder": "​",
      "style": "IPY_MODEL_d34c5e1d73fe43888b25060f718cb379",
      "value": "Epoch 2/2 Training: 100%"
     }
    },
    "ca2f6a71ab95429ea20d160ff325568d": {
     "model_module": "@jupyter-widgets/controls",
     "model_module_version": "1.5.0",
     "model_name": "HTMLModel",
     "state": {
      "_dom_classes": [],
      "_model_module": "@jupyter-widgets/controls",
      "_model_module_version": "1.5.0",
      "_model_name": "HTMLModel",
      "_view_count": null,
      "_view_module": "@jupyter-widgets/controls",
      "_view_module_version": "1.5.0",
      "_view_name": "HTMLView",
      "description": "",
      "description_tooltip": null,
      "layout": "IPY_MODEL_a6d93aa15bb148c2885559a31b0ce3ff",
      "placeholder": "​",
      "style": "IPY_MODEL_034c9ce0c59e473ebba4df435681ab6d",
      "value": " 1/1 [00:00&lt;00:00,  3.56it/s]"
     }
    },
    "cd93e9578dca46f5aee4ded1b21c27ee": {
     "model_module": "@jupyter-widgets/base",
     "model_module_version": "1.2.0",
     "model_name": "LayoutModel",
     "state": {
      "_model_module": "@jupyter-widgets/base",
      "_model_module_version": "1.2.0",
      "_model_name": "LayoutModel",
      "_view_count": null,
      "_view_module": "@jupyter-widgets/base",
      "_view_module_version": "1.2.0",
      "_view_name": "LayoutView",
      "align_content": null,
      "align_items": null,
      "align_self": null,
      "border": null,
      "bottom": null,
      "display": null,
      "flex": null,
      "flex_flow": null,
      "grid_area": null,
      "grid_auto_columns": null,
      "grid_auto_flow": null,
      "grid_auto_rows": null,
      "grid_column": null,
      "grid_gap": null,
      "grid_row": null,
      "grid_template_areas": null,
      "grid_template_columns": null,
      "grid_template_rows": null,
      "height": null,
      "justify_content": null,
      "justify_items": null,
      "left": null,
      "margin": null,
      "max_height": null,
      "max_width": null,
      "min_height": null,
      "min_width": null,
      "object_fit": null,
      "object_position": null,
      "order": null,
      "overflow": null,
      "overflow_x": null,
      "overflow_y": null,
      "padding": null,
      "right": null,
      "top": null,
      "visibility": null,
      "width": null
     }
    },
    "cdc099903c1843b7bbe55f144113e128": {
     "model_module": "@jupyter-widgets/base",
     "model_module_version": "1.2.0",
     "model_name": "LayoutModel",
     "state": {
      "_model_module": "@jupyter-widgets/base",
      "_model_module_version": "1.2.0",
      "_model_name": "LayoutModel",
      "_view_count": null,
      "_view_module": "@jupyter-widgets/base",
      "_view_module_version": "1.2.0",
      "_view_name": "LayoutView",
      "align_content": null,
      "align_items": null,
      "align_self": null,
      "border": null,
      "bottom": null,
      "display": null,
      "flex": null,
      "flex_flow": null,
      "grid_area": null,
      "grid_auto_columns": null,
      "grid_auto_flow": null,
      "grid_auto_rows": null,
      "grid_column": null,
      "grid_gap": null,
      "grid_row": null,
      "grid_template_areas": null,
      "grid_template_columns": null,
      "grid_template_rows": null,
      "height": null,
      "justify_content": null,
      "justify_items": null,
      "left": null,
      "margin": null,
      "max_height": null,
      "max_width": null,
      "min_height": null,
      "min_width": null,
      "object_fit": null,
      "object_position": null,
      "order": null,
      "overflow": null,
      "overflow_x": null,
      "overflow_y": null,
      "padding": null,
      "right": null,
      "top": null,
      "visibility": null,
      "width": null
     }
    },
    "d1496afc72ed4fd9b5daca3a08018115": {
     "model_module": "@jupyter-widgets/base",
     "model_module_version": "1.2.0",
     "model_name": "LayoutModel",
     "state": {
      "_model_module": "@jupyter-widgets/base",
      "_model_module_version": "1.2.0",
      "_model_name": "LayoutModel",
      "_view_count": null,
      "_view_module": "@jupyter-widgets/base",
      "_view_module_version": "1.2.0",
      "_view_name": "LayoutView",
      "align_content": null,
      "align_items": null,
      "align_self": null,
      "border": null,
      "bottom": null,
      "display": null,
      "flex": null,
      "flex_flow": null,
      "grid_area": null,
      "grid_auto_columns": null,
      "grid_auto_flow": null,
      "grid_auto_rows": null,
      "grid_column": null,
      "grid_gap": null,
      "grid_row": null,
      "grid_template_areas": null,
      "grid_template_columns": null,
      "grid_template_rows": null,
      "height": null,
      "justify_content": null,
      "justify_items": null,
      "left": null,
      "margin": null,
      "max_height": null,
      "max_width": null,
      "min_height": null,
      "min_width": null,
      "object_fit": null,
      "object_position": null,
      "order": null,
      "overflow": null,
      "overflow_x": null,
      "overflow_y": null,
      "padding": null,
      "right": null,
      "top": null,
      "visibility": null,
      "width": null
     }
    },
    "d34c5e1d73fe43888b25060f718cb379": {
     "model_module": "@jupyter-widgets/controls",
     "model_module_version": "1.5.0",
     "model_name": "DescriptionStyleModel",
     "state": {
      "_model_module": "@jupyter-widgets/controls",
      "_model_module_version": "1.5.0",
      "_model_name": "DescriptionStyleModel",
      "_view_count": null,
      "_view_module": "@jupyter-widgets/base",
      "_view_module_version": "1.2.0",
      "_view_name": "StyleView",
      "description_width": ""
     }
    },
    "d367fbb90eb74dce95b2909a951890b6": {
     "model_module": "@jupyter-widgets/controls",
     "model_module_version": "1.5.0",
     "model_name": "FloatProgressModel",
     "state": {
      "_dom_classes": [],
      "_model_module": "@jupyter-widgets/controls",
      "_model_module_version": "1.5.0",
      "_model_name": "FloatProgressModel",
      "_view_count": null,
      "_view_module": "@jupyter-widgets/controls",
      "_view_module_version": "1.5.0",
      "_view_name": "ProgressView",
      "bar_style": "success",
      "description": "",
      "description_tooltip": null,
      "layout": "IPY_MODEL_f71d074aaf3549cd8372debf02606551",
      "max": 1,
      "min": 0,
      "orientation": "horizontal",
      "style": "IPY_MODEL_9c853aa85e65400d9dc17ec680fd9750",
      "value": 1
     }
    },
    "d4765475c3044d41a9427af6c0d7691f": {
     "model_module": "@jupyter-widgets/controls",
     "model_module_version": "1.5.0",
     "model_name": "DescriptionStyleModel",
     "state": {
      "_model_module": "@jupyter-widgets/controls",
      "_model_module_version": "1.5.0",
      "_model_name": "DescriptionStyleModel",
      "_view_count": null,
      "_view_module": "@jupyter-widgets/base",
      "_view_module_version": "1.2.0",
      "_view_name": "StyleView",
      "description_width": ""
     }
    },
    "dd56d3d78278466687637fd9bfaf3669": {
     "model_module": "@jupyter-widgets/controls",
     "model_module_version": "1.5.0",
     "model_name": "DescriptionStyleModel",
     "state": {
      "_model_module": "@jupyter-widgets/controls",
      "_model_module_version": "1.5.0",
      "_model_name": "DescriptionStyleModel",
      "_view_count": null,
      "_view_module": "@jupyter-widgets/base",
      "_view_module_version": "1.2.0",
      "_view_name": "StyleView",
      "description_width": ""
     }
    },
    "e03c88e7fd7b4a9eadea5bc2d509d688": {
     "model_module": "@jupyter-widgets/base",
     "model_module_version": "1.2.0",
     "model_name": "LayoutModel",
     "state": {
      "_model_module": "@jupyter-widgets/base",
      "_model_module_version": "1.2.0",
      "_model_name": "LayoutModel",
      "_view_count": null,
      "_view_module": "@jupyter-widgets/base",
      "_view_module_version": "1.2.0",
      "_view_name": "LayoutView",
      "align_content": null,
      "align_items": null,
      "align_self": null,
      "border": null,
      "bottom": null,
      "display": null,
      "flex": null,
      "flex_flow": null,
      "grid_area": null,
      "grid_auto_columns": null,
      "grid_auto_flow": null,
      "grid_auto_rows": null,
      "grid_column": null,
      "grid_gap": null,
      "grid_row": null,
      "grid_template_areas": null,
      "grid_template_columns": null,
      "grid_template_rows": null,
      "height": null,
      "justify_content": null,
      "justify_items": null,
      "left": null,
      "margin": null,
      "max_height": null,
      "max_width": null,
      "min_height": null,
      "min_width": null,
      "object_fit": null,
      "object_position": null,
      "order": null,
      "overflow": null,
      "overflow_x": null,
      "overflow_y": null,
      "padding": null,
      "right": null,
      "top": null,
      "visibility": null,
      "width": null
     }
    },
    "e422acc27c9944e3be8d817aa48739e4": {
     "model_module": "@jupyter-widgets/base",
     "model_module_version": "1.2.0",
     "model_name": "LayoutModel",
     "state": {
      "_model_module": "@jupyter-widgets/base",
      "_model_module_version": "1.2.0",
      "_model_name": "LayoutModel",
      "_view_count": null,
      "_view_module": "@jupyter-widgets/base",
      "_view_module_version": "1.2.0",
      "_view_name": "LayoutView",
      "align_content": null,
      "align_items": null,
      "align_self": null,
      "border": null,
      "bottom": null,
      "display": null,
      "flex": null,
      "flex_flow": null,
      "grid_area": null,
      "grid_auto_columns": null,
      "grid_auto_flow": null,
      "grid_auto_rows": null,
      "grid_column": null,
      "grid_gap": null,
      "grid_row": null,
      "grid_template_areas": null,
      "grid_template_columns": null,
      "grid_template_rows": null,
      "height": null,
      "justify_content": null,
      "justify_items": null,
      "left": null,
      "margin": null,
      "max_height": null,
      "max_width": null,
      "min_height": null,
      "min_width": null,
      "object_fit": null,
      "object_position": null,
      "order": null,
      "overflow": null,
      "overflow_x": null,
      "overflow_y": null,
      "padding": null,
      "right": null,
      "top": null,
      "visibility": null,
      "width": null
     }
    },
    "e5178d7bd2144346ae4ebe19e468e529": {
     "model_module": "@jupyter-widgets/base",
     "model_module_version": "1.2.0",
     "model_name": "LayoutModel",
     "state": {
      "_model_module": "@jupyter-widgets/base",
      "_model_module_version": "1.2.0",
      "_model_name": "LayoutModel",
      "_view_count": null,
      "_view_module": "@jupyter-widgets/base",
      "_view_module_version": "1.2.0",
      "_view_name": "LayoutView",
      "align_content": null,
      "align_items": null,
      "align_self": null,
      "border": null,
      "bottom": null,
      "display": null,
      "flex": null,
      "flex_flow": null,
      "grid_area": null,
      "grid_auto_columns": null,
      "grid_auto_flow": null,
      "grid_auto_rows": null,
      "grid_column": null,
      "grid_gap": null,
      "grid_row": null,
      "grid_template_areas": null,
      "grid_template_columns": null,
      "grid_template_rows": null,
      "height": null,
      "justify_content": null,
      "justify_items": null,
      "left": null,
      "margin": null,
      "max_height": null,
      "max_width": null,
      "min_height": null,
      "min_width": null,
      "object_fit": null,
      "object_position": null,
      "order": null,
      "overflow": null,
      "overflow_x": null,
      "overflow_y": null,
      "padding": null,
      "right": null,
      "top": null,
      "visibility": null,
      "width": null
     }
    },
    "e7d7a895432a40bc893c8e5d5c9d7936": {
     "model_module": "@jupyter-widgets/controls",
     "model_module_version": "1.5.0",
     "model_name": "HBoxModel",
     "state": {
      "_dom_classes": [],
      "_model_module": "@jupyter-widgets/controls",
      "_model_module_version": "1.5.0",
      "_model_name": "HBoxModel",
      "_view_count": null,
      "_view_module": "@jupyter-widgets/controls",
      "_view_module_version": "1.5.0",
      "_view_name": "HBoxView",
      "box_style": "",
      "children": [
       "IPY_MODEL_40c4f549b189453ca911b310d44a925c",
       "IPY_MODEL_59c8c6d34e384ff091e90ccc2bab016c",
       "IPY_MODEL_59eead3faadc4dc0a2d294b7b09e15d5"
      ],
      "layout": "IPY_MODEL_539ca552762945d9a2a52bc788f2413b"
     }
    },
    "ef3d4b4790014816a0bf50b2a8c7b5f9": {
     "model_module": "@jupyter-widgets/base",
     "model_module_version": "1.2.0",
     "model_name": "LayoutModel",
     "state": {
      "_model_module": "@jupyter-widgets/base",
      "_model_module_version": "1.2.0",
      "_model_name": "LayoutModel",
      "_view_count": null,
      "_view_module": "@jupyter-widgets/base",
      "_view_module_version": "1.2.0",
      "_view_name": "LayoutView",
      "align_content": null,
      "align_items": null,
      "align_self": null,
      "border": null,
      "bottom": null,
      "display": null,
      "flex": null,
      "flex_flow": null,
      "grid_area": null,
      "grid_auto_columns": null,
      "grid_auto_flow": null,
      "grid_auto_rows": null,
      "grid_column": null,
      "grid_gap": null,
      "grid_row": null,
      "grid_template_areas": null,
      "grid_template_columns": null,
      "grid_template_rows": null,
      "height": null,
      "justify_content": null,
      "justify_items": null,
      "left": null,
      "margin": null,
      "max_height": null,
      "max_width": null,
      "min_height": null,
      "min_width": null,
      "object_fit": null,
      "object_position": null,
      "order": null,
      "overflow": null,
      "overflow_x": null,
      "overflow_y": null,
      "padding": null,
      "right": null,
      "top": null,
      "visibility": null,
      "width": null
     }
    },
    "f112643735194995a5ce0fa0e4001f1b": {
     "model_module": "@jupyter-widgets/controls",
     "model_module_version": "1.5.0",
     "model_name": "DescriptionStyleModel",
     "state": {
      "_model_module": "@jupyter-widgets/controls",
      "_model_module_version": "1.5.0",
      "_model_name": "DescriptionStyleModel",
      "_view_count": null,
      "_view_module": "@jupyter-widgets/base",
      "_view_module_version": "1.2.0",
      "_view_name": "StyleView",
      "description_width": ""
     }
    },
    "f11a2a403a094dadaae52d0bdf3ccfb3": {
     "model_module": "@jupyter-widgets/controls",
     "model_module_version": "1.5.0",
     "model_name": "HTMLModel",
     "state": {
      "_dom_classes": [],
      "_model_module": "@jupyter-widgets/controls",
      "_model_module_version": "1.5.0",
      "_model_name": "HTMLModel",
      "_view_count": null,
      "_view_module": "@jupyter-widgets/controls",
      "_view_module_version": "1.5.0",
      "_view_name": "HTMLView",
      "description": "",
      "description_tooltip": null,
      "layout": "IPY_MODEL_f3c137cafa594968b0dcc83910db78aa",
      "placeholder": "​",
      "style": "IPY_MODEL_47df7d5f3a2c4719ac53947f4ae77b0d",
      "value": " 1/1 [00:00&lt;00:00, 16.11it/s]"
     }
    },
    "f16268b6f63840d19aca6ad7b8ac5f59": {
     "model_module": "@jupyter-widgets/base",
     "model_module_version": "1.2.0",
     "model_name": "LayoutModel",
     "state": {
      "_model_module": "@jupyter-widgets/base",
      "_model_module_version": "1.2.0",
      "_model_name": "LayoutModel",
      "_view_count": null,
      "_view_module": "@jupyter-widgets/base",
      "_view_module_version": "1.2.0",
      "_view_name": "LayoutView",
      "align_content": null,
      "align_items": null,
      "align_self": null,
      "border": null,
      "bottom": null,
      "display": null,
      "flex": null,
      "flex_flow": null,
      "grid_area": null,
      "grid_auto_columns": null,
      "grid_auto_flow": null,
      "grid_auto_rows": null,
      "grid_column": null,
      "grid_gap": null,
      "grid_row": null,
      "grid_template_areas": null,
      "grid_template_columns": null,
      "grid_template_rows": null,
      "height": null,
      "justify_content": null,
      "justify_items": null,
      "left": null,
      "margin": null,
      "max_height": null,
      "max_width": null,
      "min_height": null,
      "min_width": null,
      "object_fit": null,
      "object_position": null,
      "order": null,
      "overflow": null,
      "overflow_x": null,
      "overflow_y": null,
      "padding": null,
      "right": null,
      "top": null,
      "visibility": null,
      "width": null
     }
    },
    "f27cc5ed39674f06b82070b1b569d5c0": {
     "model_module": "@jupyter-widgets/controls",
     "model_module_version": "1.5.0",
     "model_name": "HBoxModel",
     "state": {
      "_dom_classes": [],
      "_model_module": "@jupyter-widgets/controls",
      "_model_module_version": "1.5.0",
      "_model_name": "HBoxModel",
      "_view_count": null,
      "_view_module": "@jupyter-widgets/controls",
      "_view_module_version": "1.5.0",
      "_view_name": "HBoxView",
      "box_style": "",
      "children": [
       "IPY_MODEL_bee3dc12d96743a99d962ccae68e34ec",
       "IPY_MODEL_65b5db598b054d529b69261efdd4c42e",
       "IPY_MODEL_ca2f6a71ab95429ea20d160ff325568d"
      ],
      "layout": "IPY_MODEL_f37ac32905c8439ebabe99a4a19eafae"
     }
    },
    "f37ac32905c8439ebabe99a4a19eafae": {
     "model_module": "@jupyter-widgets/base",
     "model_module_version": "1.2.0",
     "model_name": "LayoutModel",
     "state": {
      "_model_module": "@jupyter-widgets/base",
      "_model_module_version": "1.2.0",
      "_model_name": "LayoutModel",
      "_view_count": null,
      "_view_module": "@jupyter-widgets/base",
      "_view_module_version": "1.2.0",
      "_view_name": "LayoutView",
      "align_content": null,
      "align_items": null,
      "align_self": null,
      "border": null,
      "bottom": null,
      "display": null,
      "flex": null,
      "flex_flow": null,
      "grid_area": null,
      "grid_auto_columns": null,
      "grid_auto_flow": null,
      "grid_auto_rows": null,
      "grid_column": null,
      "grid_gap": null,
      "grid_row": null,
      "grid_template_areas": null,
      "grid_template_columns": null,
      "grid_template_rows": null,
      "height": null,
      "justify_content": null,
      "justify_items": null,
      "left": null,
      "margin": null,
      "max_height": null,
      "max_width": null,
      "min_height": null,
      "min_width": null,
      "object_fit": null,
      "object_position": null,
      "order": null,
      "overflow": null,
      "overflow_x": null,
      "overflow_y": null,
      "padding": null,
      "right": null,
      "top": null,
      "visibility": null,
      "width": null
     }
    },
    "f3a2e6c171d040749d3dbd1d316812bb": {
     "model_module": "@jupyter-widgets/controls",
     "model_module_version": "1.5.0",
     "model_name": "HBoxModel",
     "state": {
      "_dom_classes": [],
      "_model_module": "@jupyter-widgets/controls",
      "_model_module_version": "1.5.0",
      "_model_name": "HBoxModel",
      "_view_count": null,
      "_view_module": "@jupyter-widgets/controls",
      "_view_module_version": "1.5.0",
      "_view_name": "HBoxView",
      "box_style": "",
      "children": [
       "IPY_MODEL_c72706a03d5c49799f6c3f0ccf72e741",
       "IPY_MODEL_a027d26a47c6469b9e60dc0963072041",
       "IPY_MODEL_2118c44918c349af9b1761c022925ece"
      ],
      "layout": "IPY_MODEL_9793cae146b9438aa26ffdfd90f68dcd"
     }
    },
    "f3c137cafa594968b0dcc83910db78aa": {
     "model_module": "@jupyter-widgets/base",
     "model_module_version": "1.2.0",
     "model_name": "LayoutModel",
     "state": {
      "_model_module": "@jupyter-widgets/base",
      "_model_module_version": "1.2.0",
      "_model_name": "LayoutModel",
      "_view_count": null,
      "_view_module": "@jupyter-widgets/base",
      "_view_module_version": "1.2.0",
      "_view_name": "LayoutView",
      "align_content": null,
      "align_items": null,
      "align_self": null,
      "border": null,
      "bottom": null,
      "display": null,
      "flex": null,
      "flex_flow": null,
      "grid_area": null,
      "grid_auto_columns": null,
      "grid_auto_flow": null,
      "grid_auto_rows": null,
      "grid_column": null,
      "grid_gap": null,
      "grid_row": null,
      "grid_template_areas": null,
      "grid_template_columns": null,
      "grid_template_rows": null,
      "height": null,
      "justify_content": null,
      "justify_items": null,
      "left": null,
      "margin": null,
      "max_height": null,
      "max_width": null,
      "min_height": null,
      "min_width": null,
      "object_fit": null,
      "object_position": null,
      "order": null,
      "overflow": null,
      "overflow_x": null,
      "overflow_y": null,
      "padding": null,
      "right": null,
      "top": null,
      "visibility": null,
      "width": null
     }
    },
    "f480951b9329401daf10f6440270435c": {
     "model_module": "@jupyter-widgets/controls",
     "model_module_version": "1.5.0",
     "model_name": "ProgressStyleModel",
     "state": {
      "_model_module": "@jupyter-widgets/controls",
      "_model_module_version": "1.5.0",
      "_model_name": "ProgressStyleModel",
      "_view_count": null,
      "_view_module": "@jupyter-widgets/base",
      "_view_module_version": "1.2.0",
      "_view_name": "StyleView",
      "bar_color": null,
      "description_width": ""
     }
    },
    "f6577ba282b64150a2967089988014f9": {
     "model_module": "@jupyter-widgets/controls",
     "model_module_version": "1.5.0",
     "model_name": "HTMLModel",
     "state": {
      "_dom_classes": [],
      "_model_module": "@jupyter-widgets/controls",
      "_model_module_version": "1.5.0",
      "_model_name": "HTMLModel",
      "_view_count": null,
      "_view_module": "@jupyter-widgets/controls",
      "_view_module_version": "1.5.0",
      "_view_name": "HTMLView",
      "description": "",
      "description_tooltip": null,
      "layout": "IPY_MODEL_9dd3e910faed4492a174006a2c3b0a29",
      "placeholder": "​",
      "style": "IPY_MODEL_b921b09f10794eb282d5c196dfbe5c6a",
      "value": "Epoch 1/2 Training: 100%"
     }
    },
    "f71d074aaf3549cd8372debf02606551": {
     "model_module": "@jupyter-widgets/base",
     "model_module_version": "1.2.0",
     "model_name": "LayoutModel",
     "state": {
      "_model_module": "@jupyter-widgets/base",
      "_model_module_version": "1.2.0",
      "_model_name": "LayoutModel",
      "_view_count": null,
      "_view_module": "@jupyter-widgets/base",
      "_view_module_version": "1.2.0",
      "_view_name": "LayoutView",
      "align_content": null,
      "align_items": null,
      "align_self": null,
      "border": null,
      "bottom": null,
      "display": null,
      "flex": null,
      "flex_flow": null,
      "grid_area": null,
      "grid_auto_columns": null,
      "grid_auto_flow": null,
      "grid_auto_rows": null,
      "grid_column": null,
      "grid_gap": null,
      "grid_row": null,
      "grid_template_areas": null,
      "grid_template_columns": null,
      "grid_template_rows": null,
      "height": null,
      "justify_content": null,
      "justify_items": null,
      "left": null,
      "margin": null,
      "max_height": null,
      "max_width": null,
      "min_height": null,
      "min_width": null,
      "object_fit": null,
      "object_position": null,
      "order": null,
      "overflow": null,
      "overflow_x": null,
      "overflow_y": null,
      "padding": null,
      "right": null,
      "top": null,
      "visibility": null,
      "width": null
     }
    },
    "f9847959d39c457ba713577b37bb107d": {
     "model_module": "@jupyter-widgets/controls",
     "model_module_version": "1.5.0",
     "model_name": "ProgressStyleModel",
     "state": {
      "_model_module": "@jupyter-widgets/controls",
      "_model_module_version": "1.5.0",
      "_model_name": "ProgressStyleModel",
      "_view_count": null,
      "_view_module": "@jupyter-widgets/base",
      "_view_module_version": "1.2.0",
      "_view_name": "StyleView",
      "bar_color": null,
      "description_width": ""
     }
    },
    "ffe770e21c064aa7aa136f2c68a96a43": {
     "model_module": "@jupyter-widgets/base",
     "model_module_version": "1.2.0",
     "model_name": "LayoutModel",
     "state": {
      "_model_module": "@jupyter-widgets/base",
      "_model_module_version": "1.2.0",
      "_model_name": "LayoutModel",
      "_view_count": null,
      "_view_module": "@jupyter-widgets/base",
      "_view_module_version": "1.2.0",
      "_view_name": "LayoutView",
      "align_content": null,
      "align_items": null,
      "align_self": null,
      "border": null,
      "bottom": null,
      "display": null,
      "flex": null,
      "flex_flow": null,
      "grid_area": null,
      "grid_auto_columns": null,
      "grid_auto_flow": null,
      "grid_auto_rows": null,
      "grid_column": null,
      "grid_gap": null,
      "grid_row": null,
      "grid_template_areas": null,
      "grid_template_columns": null,
      "grid_template_rows": null,
      "height": null,
      "justify_content": null,
      "justify_items": null,
      "left": null,
      "margin": null,
      "max_height": null,
      "max_width": null,
      "min_height": null,
      "min_width": null,
      "object_fit": null,
      "object_position": null,
      "order": null,
      "overflow": null,
      "overflow_x": null,
      "overflow_y": null,
      "padding": null,
      "right": null,
      "top": null,
      "visibility": null,
      "width": null
     }
    }
   }
  }
 },
 "nbformat": 4,
 "nbformat_minor": 1
}
